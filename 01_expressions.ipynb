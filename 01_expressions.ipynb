{
  "nbformat": 4,
  "nbformat_minor": 0,
  "metadata": {
    "colab": {
      "provenance": [],
      "authorship_tag": "ABX9TyNxd/v12iuLNbjLX6PGN9b8",
      "include_colab_link": true
    },
    "kernelspec": {
      "name": "python3",
      "display_name": "Python 3"
    },
    "language_info": {
      "name": "python"
    }
  },
  "cells": [
    {
      "cell_type": "markdown",
      "metadata": {
        "id": "view-in-github",
        "colab_type": "text"
      },
      "source": [
        "<a href=\"https://colab.research.google.com/github/Muniza-NAbeel/Project-4-Assignments/blob/main/01_expressions.ipynb\" target=\"_parent\"><img src=\"https://colab.research.google.com/assets/colab-badge.svg\" alt=\"Open In Colab\"/></a>"
      ]
    },
    {
      "cell_type": "code",
      "execution_count": null,
      "metadata": {
        "id": "CjjPNcVrU4JR"
      },
      "outputs": [],
      "source": []
    },
    {
      "cell_type": "markdown",
      "source": [
        "# **01_dicesimulator**"
      ],
      "metadata": {
        "id": "9jTCszGQVS1z"
      }
    },
    {
      "cell_type": "code",
      "source": [
        "import random\n",
        "\n",
        "Num_SIDES = 6\n",
        "\n",
        "def roll_dice():\n",
        "    # Roll the dice, and print the result\n",
        "    die1 : int = random.randint(1, Num_SIDES)   # Pehly dice ka random number\n",
        "    die2 : int = random.randint(1, Num_SIDES)   # Dosry dice ka random number\n",
        "\n",
        "    total : int = die1 + die2     # dono dice ka total\n",
        "\n",
        "    # Print the result\n",
        "    print(f\"Total of two dice: {total}\")   # dono dice ka total print kiya\n",
        "\n",
        "\n",
        "def main():\n",
        "    # Initialize a local variable die1 with the value 10\n",
        "    die1: int = 10\n",
        "\n",
        "    # Print the initial value of die1\n",
        "    print(\"die1 in main() start as: \" + str(die1))\n",
        "\n",
        "    # Call the roll_dice function to simulate rolling dice (1st roll)\n",
        "    roll_dice()\n",
        "\n",
        "    # Call the roll_dice function to simulate rolling dice (2nd roll)\n",
        "    roll_dice()\n",
        "\n",
        "    # Call the roll_dice function to simulate rolling dice (3rd roll)\n",
        "    roll_dice()\n",
        "\n",
        "    # Print the value of die1 after rolling dice (unchanged in main)\n",
        "    print(\"die1 in main() is: \" + str(die1))\n",
        "\n",
        "\n",
        "if __name__ == \"__main__\":\n",
        "    main()"
      ],
      "metadata": {
        "colab": {
          "base_uri": "https://localhost:8080/"
        },
        "id": "tFZAOjRhVWcr",
        "outputId": "c7a72a1f-640b-4ca9-e8a7-7e37beb03b78"
      },
      "execution_count": 1,
      "outputs": [
        {
          "output_type": "stream",
          "name": "stdout",
          "text": [
            "die1 in main() start as: 10\n",
            "Total of two dice: 6\n",
            "Total of two dice: 12\n",
            "Total of two dice: 10\n",
            "die1 in main() is: 10\n"
          ]
        }
      ]
    },
    {
      "cell_type": "markdown",
      "source": [
        "# **02_e=mc2**"
      ],
      "metadata": {
        "id": "fJx1VhFbVrt1"
      }
    },
    {
      "cell_type": "code",
      "source": [
        "def energy():\n",
        "    # Define the speed of light (c) as a constant in meters per second\n",
        "    c: float = 299792458\n",
        "\n",
        "    # Prompt the user to input the mass in kilograms and convert it to a float\n",
        "    m: float = float(input(\"Enter Kilos of mass: \"))\n",
        "\n",
        "    # Display the formula for energy\n",
        "    print(\"e = m*c^2\")\n",
        "\n",
        "    # Print the entered mass with units (kilograms)\n",
        "    print(\"Mass = \" + str(m) + \" kg\")\n",
        "\n",
        "    # Print the speed of light with units (meters per second)\n",
        "    print(\"C = \" + str(c) + \" m/s\")\n",
        "\n",
        "    # Calculate energy using the formula e = m * c^2 and display the result in joules\n",
        "    print(\"e = \" + str(m * c ** 2) + \" joules\")\n",
        "\n",
        "# Check if the script is being run directly\n",
        "if __name__ == \"__main__\":\n",
        "    energy()"
      ],
      "metadata": {
        "colab": {
          "base_uri": "https://localhost:8080/"
        },
        "id": "yp_pQSmfV83H",
        "outputId": "b2f00ec2-f25c-48f3-81e4-49a329546c1e"
      },
      "execution_count": 2,
      "outputs": [
        {
          "output_type": "stream",
          "name": "stdout",
          "text": [
            "Enter Kilos of mass: 450\n",
            "e = m*c^2\n",
            "Mass = 450.0 kg\n",
            "C = 299792458 m/s\n",
            "e = 4.0443983043156795e+19 joules\n"
          ]
        }
      ]
    },
    {
      "cell_type": "markdown",
      "source": [
        "# **03_feet_to_inches**"
      ],
      "metadata": {
        "id": "k_tUzHX6WNXH"
      }
    },
    {
      "cell_type": "code",
      "source": [
        "INCHES_IN_FOOT: int = 12  # There are 12 inches in 1 foot\n",
        "\n",
        "def main():\n",
        "    # Prompt the user to input the number of feet\n",
        "    feet: int = int(input(\"Enter Feet and I will convert it into inches: \"))\n",
        "\n",
        "    # Display the result in a formatted string\n",
        "    print(f'There are {INCHES_IN_FOOT * feet} inches in {feet} feet.')\n",
        "\n",
        "# Check if the script is being run directly\n",
        "if __name__ == \"__main__\":\n",
        "    main()\n"
      ],
      "metadata": {
        "colab": {
          "base_uri": "https://localhost:8080/"
        },
        "id": "7V5DDGiGWQgc",
        "outputId": "ab684c9e-4264-4ed1-9936-93270753d00d"
      },
      "execution_count": 6,
      "outputs": [
        {
          "output_type": "stream",
          "name": "stdout",
          "text": [
            "Enter Feet and I will convert it into inches: 32\n",
            "There are 384 inches in 32 feet.\n"
          ]
        }
      ]
    },
    {
      "cell_type": "markdown",
      "source": [
        "# **04_pythagorean_theorem**"
      ],
      "metadata": {
        "id": "3xS6Gu3xX0UK"
      }
    },
    {
      "cell_type": "code",
      "source": [
        "import math\n",
        "\n",
        "print(\"04_pythagorean_theorem\")\n",
        "\n",
        "def triangle():\n",
        "  ab:float = float(input(\"Enter the length of the side ab. \"))\n",
        "  ac:float = float(input(\"Enter the length of the side ac. \"))\n",
        "  bc:float = math.sqrt(ab**2 + ac**2)\n",
        "  print(f'The length of bc (the hypothenuse is : {bc})')\n",
        "\n",
        "if __name__==\"__main__\":\n",
        "  triangle()"
      ],
      "metadata": {
        "colab": {
          "base_uri": "https://localhost:8080/"
        },
        "id": "4Nf5NYTZX2vw",
        "outputId": "ec127e99-2ac5-42bb-c737-3bae10766a66"
      },
      "execution_count": 7,
      "outputs": [
        {
          "output_type": "stream",
          "name": "stdout",
          "text": [
            "04_pythagorean_theorem\n",
            "Enter the length of the side ab. 4.2\n",
            "Enter the length of the side ac. 3\n",
            "The length of bc (the hypothenuse is : 5.1613951602255765)\n"
          ]
        }
      ]
    },
    {
      "cell_type": "markdown",
      "source": [
        "# **05_remainder_division**"
      ],
      "metadata": {
        "id": "j_KBxGNXYFWe"
      }
    },
    {
      "cell_type": "code",
      "source": [
        "def reminder():\n",
        "  num1:int = int(input(\"Enter an integer to be divided: \"))\n",
        "  num2:int = int(input(\"Enter an integer to divide by: \"))\n",
        "  quotient:int = num1 // num2     # integer division ka result nikalta hai (bina decimal ke).\n",
        "  remainder:int = num1 % num2     # division ka remainder (baaqi) nikalta hai.\n",
        "  print(f'The result of following division is {quotient} with the reminder of {remainder}')\n",
        "\n",
        "if __name__ == \"__main__\":\n",
        "  reminder()"
      ],
      "metadata": {
        "colab": {
          "base_uri": "https://localhost:8080/"
        },
        "id": "C5foFCbQYH5v",
        "outputId": "1c5de020-1b1f-4544-eea0-b123a11afddb"
      },
      "execution_count": 8,
      "outputs": [
        {
          "output_type": "stream",
          "name": "stdout",
          "text": [
            "Enter an integer to be divided: 5\n",
            "Enter an integer to divide by: 2\n",
            "The result of following division is 2 with the reminder of 1\n"
          ]
        }
      ]
    },
    {
      "cell_type": "markdown",
      "source": [
        "# **06_rolldice**"
      ],
      "metadata": {
        "id": "ibetj2xSYXyZ"
      }
    },
    {
      "cell_type": "code",
      "source": [
        "import random\n",
        "\n",
        "def main():\n",
        "    die1 : int = random.randint(1, 6)\n",
        "    die2 : int = random.randint(1, 6)\n",
        "\n",
        "    total : int = int(die1 + die2)\n",
        "\n",
        "    print(f\"First die {die1}\")\n",
        "    print(f\"Second die {die2}\")\n",
        "\n",
        "    print(f\"Total of two dies {total}\")\n",
        "\n",
        "if __name__ == \"__main__\":\n",
        "    main()"
      ],
      "metadata": {
        "colab": {
          "base_uri": "https://localhost:8080/"
        },
        "id": "aSY7xhf5YalM",
        "outputId": "d8e26554-8dd8-4d7b-d9eb-bdbd569eb844"
      },
      "execution_count": 9,
      "outputs": [
        {
          "output_type": "stream",
          "name": "stdout",
          "text": [
            "First die 4\n",
            "Second die 2\n",
            "Total of two dies 6\n"
          ]
        }
      ]
    },
    {
      "cell_type": "markdown",
      "source": [
        "# **06_seconds_in_year**"
      ],
      "metadata": {
        "id": "n46fK5RwYiZx"
      }
    },
    {
      "cell_type": "code",
      "source": [
        "days_in_year : int = 365\n",
        "hours_per_day : int = 24\n",
        "min_per_hours : int = 60\n",
        "sec_per_min :int = 60\n",
        "\n",
        "def main():\n",
        "    print(f\" There Are {days_in_year * hours_per_day * min_per_hours * sec_per_min} Seconds in a Year!\")\n",
        "\n",
        "if __name__ == \"__main__\":\n",
        "    main()"
      ],
      "metadata": {
        "colab": {
          "base_uri": "https://localhost:8080/"
        },
        "id": "yIIU2SLxYlUB",
        "outputId": "5b2503c4-9ae2-46ef-b00b-a32a47f35eb2"
      },
      "execution_count": 10,
      "outputs": [
        {
          "output_type": "stream",
          "name": "stdout",
          "text": [
            " There Are 31536000 Seconds in a Year!\n"
          ]
        }
      ]
    },
    {
      "cell_type": "markdown",
      "source": [
        "# **07_tiny_mad_lib**"
      ],
      "metadata": {
        "id": "UDk8BK0UYtrN"
      }
    },
    {
      "cell_type": "code",
      "source": [
        "SENTENCE_START: str = \"Once upon a time, there was a\"\n",
        "\n",
        "# Taking inputs from the user\n",
        "adjective: str = input(\"Please type an adjective to describe the character: \")\n",
        "noun: str = input(\"Please type a name (noun) for the character: \")\n",
        "verb: str = input(\"Please type an activity (verb) they love to do: \")\n",
        "\n",
        "# Forming and printing the story\n",
        "print(f\"{SENTENCE_START} {adjective} named {noun}, and they love to do {verb}.\")\n",
        "\n"
      ],
      "metadata": {
        "colab": {
          "base_uri": "https://localhost:8080/"
        },
        "id": "02RSBHt7YwJJ",
        "outputId": "50a81056-8d2b-4ba9-9b20-76bdb8086e83"
      },
      "execution_count": 12,
      "outputs": [
        {
          "output_type": "stream",
          "name": "stdout",
          "text": [
            "Please type an adjective to describe the character: Princess\n",
            "Please type a name (noun) for the character: Muniza Nabeel\n",
            "Please type an activity (verb) they love to do: Cooking\n",
            "Once upon a time, there was a Princess named Muniza Nabeel, and they love to Cooking.\n"
          ]
        }
      ]
    }
  ]
}