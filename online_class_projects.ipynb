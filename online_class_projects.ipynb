{
  "cells": [
    {
      "cell_type": "markdown",
      "metadata": {
        "id": "view-in-github",
        "colab_type": "text"
      },
      "source": [
        "<a href=\"https://colab.research.google.com/github/Muniza-NAbeel/Project-4-Assignments/blob/main/online_class_projects.ipynb\" target=\"_parent\"><img src=\"https://colab.research.google.com/assets/colab-badge.svg\" alt=\"Open In Colab\"/></a>"
      ]
    },
    {
      "cell_type": "markdown",
      "metadata": {
        "id": "yf2Dm6wxomf3"
      },
      "source": [
        "# **01_basics**"
      ]
    },
    {
      "cell_type": "markdown",
      "metadata": {
        "id": "oEBFU-Dbo2MV"
      },
      "source": [
        "# ***00_joke_bot***"
      ]
    },
    {
      "cell_type": "code",
      "execution_count": null,
      "metadata": {
        "colab": {
          "base_uri": "https://localhost:8080/"
        },
        "id": "rtHFc2wZpLIl",
        "outputId": "c80d39ea-9b07-4e08-d67e-0c8f14da1372"
      },
      "outputs": [
        {
          "name": "stdout",
          "output_type": "stream",
          "text": [
            "😂 Joke Bot 🤖\n",
            "Enter your name: Muniza\n",
            "Hello Muniza! Welcome to Joke Bot.\n",
            "\n",
            "1. Tell me a Joke 😂\n",
            "2. Exit 🚪\n",
            "Enter your choice (1 or 2): 1\n",
            "\n",
            "😄 Here's your joke:\n",
            "Why do Python programmers prefer snake_case? Because CamelCase has too many humps!\n",
            "\n",
            "\n",
            "1. Tell me a Joke 😂\n",
            "2. Exit 🚪\n",
            "Enter your choice (1 or 2): 2\n",
            "Goodbye 👋, Muniza! Have a great day!\n"
          ]
        }
      ],
      "source": [
        "import random\n",
        "\n",
        "# Constants\n",
        "PROMPT = \"Enter your name: \"\n",
        "JOKES = [\n",
        "    \"Why don’t skeletons fight each other? They don’t have the guts!\",\n",
        "    \"Why did the scarecrow win an award? Because he was outstanding in his field!\",\n",
        "    \"What did one ocean say to the other ocean? Nothing, they just waved!\",\n",
        "    \"Why do cows have hooves instead of feet? Because they lactose!\",\n",
        "    \"Why don’t programmers like nature? It has too many bugs.\",\n",
        "    \"Why do programmers prefer dark mode? Because light attracts bugs!\",\n",
        "    \"What’s a computer’s favorite snack? Microchips!\",\n",
        "    \"Why was the JavaScript developer sad? Because he didn’t ‘null’ his problems.\",\n",
        "    \"Why do Python programmers prefer snake_case? Because CamelCase has too many humps!\",\n",
        "    \"What do you call a fake noodle? An Impasta!\",\n",
        "    \"Why did the bicycle fall over? Because it was two-tired!\",\n",
        "    \"What do you call cheese that isn’t yours? Nacho cheese!\",\n",
        "]\n",
        "\n",
        "# Main Program\n",
        "print(\"😂 Joke Bot 🤖\")\n",
        "name = input(PROMPT)\n",
        "\n",
        "if name.strip():\n",
        "    print(f\"Hello {name}! Welcome to Joke Bot.\")\n",
        "    while True:\n",
        "        print(\"\\n1. Tell me a Joke 😂\")\n",
        "        print(\"2. Exit 🚪\")\n",
        "        choice = input(\"Enter your choice (1 or 2): \").strip()\n",
        "\n",
        "        if choice == \"1\":\n",
        "            joke = random.choice(JOKES)\n",
        "            print(f\"\\n😄 Here's your joke:\\n{joke}\\n\")\n",
        "        elif choice == \"2\":\n",
        "            print(f\"Goodbye 👋, {name}! Have a great day!\")\n",
        "            break\n",
        "        else:\n",
        "            print(\"Invalid choice! Please enter 1 or 2.\")\n",
        "else:\n",
        "    print(\"Name is required!\")\n"
      ]
    },
    {
      "cell_type": "markdown",
      "metadata": {
        "id": "9AjNx-mgqxIa"
      },
      "source": [
        "## ***01_double_it***"
      ]
    },
    {
      "cell_type": "code",
      "execution_count": null,
      "metadata": {
        "colab": {
          "base_uri": "https://localhost:8080/"
        },
        "id": "6PHSa5bVq2BU",
        "outputId": "80f7cec2-5c68-4254-9be7-a02afa15cbfc"
      },
      "outputs": [
        {
          "name": "stdout",
          "output_type": "stream",
          "text": [
            "🎊 Welcome to the Double It Game 🎊\n",
            "Enter a number (2 to 10): 5\n",
            "Double Sequence:\n",
            "5, 10, 20, 40, 80, \n",
            "🎯 You've reached or exceeded 100!\n"
          ]
        }
      ],
      "source": [
        "print(\"🎊 Welcome to the Double It Game 🎊\")\n",
        "\n",
        "# Main Function\n",
        "def main():\n",
        "    num = int(input(\"Enter a number (2 to 10): \"))  # Get user input\n",
        "    if num < 2 or num > 10:  # Check if input is valid\n",
        "        print(\"⚠️ Number must be between 2 and 10!\")\n",
        "        return\n",
        "\n",
        "    print(\"Double Sequence:\")\n",
        "    while num <= 100:  # Continue doubling while number is <= 100\n",
        "        print(num, end=\", \")  # Print the current number\n",
        "        num *= 2  # Double the number\n",
        "\n",
        "    print(\"\\n🎯 You've reached or exceeded 100!\")\n",
        "\n",
        "# Run the program\n",
        "main()\n"
      ]
    },
    {
      "cell_type": "markdown",
      "metadata": {
        "id": "_LSTU2wUr8eI"
      },
      "source": [
        "# ***02_liftoff***"
      ]
    },
    {
      "cell_type": "code",
      "execution_count": null,
      "metadata": {
        "colab": {
          "base_uri": "https://localhost:8080/"
        },
        "id": "OCCCeCPpsAY2",
        "outputId": "321ef52c-c4b2-471d-93d6-4b087fc1c050"
      },
      "outputs": [
        {
          "name": "stdout",
          "output_type": "stream",
          "text": [
            "\n",
            "🚀 Preparing for launch... 🚀\n",
            "\n",
            "20 19 18 17 16 15 14 13 12 11 10 9 8 7 6 5 4 3 2 1 \n",
            "\n",
            "🛸 Liftoff! 🚀\n"
          ]
        }
      ],
      "source": [
        "# Display a preparation message\n",
        "print(\"\\n🚀 Preparing for launch... 🚀\\n\")\n",
        "\n",
        "# Main function to handle the countdown\n",
        "def main():\n",
        "    # Countdown loop from 10 to 1\n",
        "    for i in range(20, 0, -1):  # Start at 10, go down to 1 (step -1)\n",
        "        print(i, end=\" \", flush=True)  # Print numbers on the same line with a space\n",
        "\n",
        "# Execute the main function if this script is run directly\n",
        "if __name__ == \"__main__\":\n",
        "    main()\n",
        "\n",
        "# Display the liftoff message\n",
        "print(\"\\n\\n🛸 Liftoff! 🚀\")\n"
      ]
    },
    {
      "cell_type": "markdown",
      "metadata": {
        "id": "LO72dZtgswt4"
      },
      "source": [
        "# ***03_guess_my_number.***"
      ]
    },
    {
      "cell_type": "code",
      "execution_count": null,
      "metadata": {
        "colab": {
          "base_uri": "https://localhost:8080/"
        },
        "id": "U2ve9lQes0GU",
        "outputId": "b22b928d-b6c6-4774-f992-c12bf2280eed"
      },
      "outputs": [
        {
          "name": "stdout",
          "output_type": "stream",
          "text": [
            "Welcome to the number guessing game!\n",
            "I am thinking of a number between 1 and 100.\n",
            "You have 7 attempts to guess the number.\n",
            "\n",
            "You have 7 attempts left.\n",
            "Take a guess: 50\n",
            "Too low! Try again.\n",
            "\n",
            "You have 6 attempts left.\n",
            "Take a guess: 70\n",
            "Too low! Try again.\n",
            "\n",
            "You have 5 attempts left.\n",
            "Take a guess: 90\n",
            "Too low! Try again.\n",
            "\n",
            "You have 4 attempts left.\n",
            "Take a guess: 99\n",
            "Too high! Try again.\n",
            "\n",
            "You have 3 attempts left.\n",
            "Take a guess: 95\n",
            "Too low! Try again.\n",
            "\n",
            "You have 2 attempts left.\n",
            "Take a guess: 97\n",
            "Too low! Try again.\n",
            "\n",
            "You have 1 attempts left.\n",
            "Take a guess: 98\n",
            "Congratulations! You guessed the number in 7 attempts.\n"
          ]
        }
      ],
      "source": [
        "import random\n",
        "\n",
        "def guess_the_number():\n",
        "    \"\"\"Project: Guess the Number Guessing Game.\"\"\"\n",
        "    number = random.randint(1, 100)  # Generate a random number between 1 and 100\n",
        "    attempts_left = 7  # Number of attempts the user has to guess the number\n",
        "\n",
        "    print(\"Welcome to the number guessing game!\")\n",
        "    print(\"I am thinking of a number between 1 and 100.\")\n",
        "    print(\"You have 7 attempts to guess the number.\")\n",
        "\n",
        "    # Game loop\n",
        "    while attempts_left > 0:\n",
        "        print(f\"\\nYou have {attempts_left} attempts left.\")\n",
        "        try:\n",
        "            guess = int(input(\"Take a guess: \"))  # Prompt the user to guess\n",
        "        except ValueError:\n",
        "            print(\"Please enter a valid number.\")  # Handle non-integer input\n",
        "            continue\n",
        "\n",
        "        # Compare the user's guess with the secret number\n",
        "        if guess < number:\n",
        "            print(\"Too low! Try again.\")\n",
        "        elif guess > number:\n",
        "            print(\"Too high! Try again.\")\n",
        "        else:\n",
        "            print(f\"Congratulations! You guessed the number in {7 - attempts_left + 1} attempts.\")\n",
        "            return  # Exit the game if the user guesses correctly\n",
        "\n",
        "        attempts_left -= 1  # Decrease the attempts left\n",
        "\n",
        "    # If the user fails to guess within the allowed attempts\n",
        "    print(f\"Sorry, you didn't guess the number. The number was {number}.\")\n",
        "\n",
        "# Run the game\n",
        "guess_the_number()\n"
      ]
    },
    {
      "cell_type": "markdown",
      "metadata": {
        "id": "WeA1OobMuQz0"
      },
      "source": [
        "# ***04_random_numbers***"
      ]
    },
    {
      "cell_type": "code",
      "execution_count": null,
      "metadata": {
        "colab": {
          "base_uri": "https://localhost:8080/"
        },
        "id": "L2A5fwS4uUmP",
        "outputId": "7e43e397-8e31-4680-eed9-31a383ccf3ce"
      },
      "outputs": [
        {
          "name": "stdout",
          "output_type": "stream",
          "text": [
            "10 Random Numbers in the Range 1 to 100:\n",
            "79 2 30 37 77 26 52 10 82 65 \n"
          ]
        }
      ],
      "source": [
        "import random\n",
        "\n",
        "def main():\n",
        "    print(\"10 Random Numbers in the Range 1 to 100:\")\n",
        "\n",
        "    # Generate and print 10 random numbers\n",
        "    for _ in range(10):\n",
        "        value = random.randint(1, 100)  # Generate a random number between 1 and 100\n",
        "        print(value, end=\" \")  # Print the number on the same line with a space\n",
        "\n",
        "    print()  # Add a newline at the end\n",
        "\n",
        "if __name__ == \"__main__\":\n",
        "    main()\n"
      ]
    },
    {
      "cell_type": "markdown",
      "metadata": {
        "id": "LTcVO8pMvnnP"
      },
      "source": [
        "# **02_intermediate**"
      ]
    },
    {
      "cell_type": "code",
      "execution_count": null,
      "metadata": {
        "colab": {
          "base_uri": "https://localhost:8080/"
        },
        "id": "uRSBYuJ-vuRL",
        "outputId": "9584571c-7f16-4a6f-a8da-b813547442f7"
      },
      "outputs": [
        {
          "name": "stdout",
          "output_type": "stream",
          "text": [
            "\n",
            " 🎊 Welcome to the High Low Game. 🎊 \n",
            "\n",
            "How many rounds do you want to play?2\n",
            "Round Number: 1\n",
            "Your Number: 53\n",
            "Do you think your number is (H)igher or (L)ower than the computer's? h\n",
            "\n",
            " 🎊Congratulation! You guess the correct number and get a point! \n",
            "🎊\n",
            "Computer's number was: 8\n",
            "\n",
            "🎉 Game Over! 🎉\n",
            "Thanks for playing!\n",
            "Your final score: 1 out of 2\n",
            "Round Number: 2\n",
            "Your Number: 26\n",
            "Do you think your number is (H)igher or (L)ower than the computer's? h\n",
            "Sorry You guess the wrong number.Please Try Again!\n",
            "Computer's number was: 89\n",
            "\n",
            "🎉 Game Over! 🎉\n",
            "Thanks for playing!\n",
            "Your final score: 1 out of 2\n"
          ]
        }
      ],
      "source": [
        "import random\n",
        "\n",
        "def high_low_game():\n",
        "  print(\"\\n 🎊 Welcome to the High Low Game. 🎊 \\n\")\n",
        "  rounds = int(input(\"How many rounds do you want to play?\"))\n",
        "\n",
        "  player_score = 0\n",
        "\n",
        "  for round_num in range(1, rounds + 1):\n",
        "    print(f\"Round Number: {round_num}\")\n",
        "\n",
        "    player_number = random.randint(1,100)\n",
        "    computer_number = random.randint(1,100)\n",
        "\n",
        "    print(f\"Your Number: {player_number}\")\n",
        "    guess = input(\"Do you think your number is (H)igher or (L)ower than the computer's? \").strip().upper()\n",
        "\n",
        "\n",
        "    if guess == \"H\" and player_number > computer_number or guess == \"L\" and player_number < computer_number:\n",
        "      print(\"\\n 🎊Congratulation! You guess the correct number and get a point! \\n🎊\")\n",
        "      player_score += 1\n",
        "    else:\n",
        "      print(\"Sorry You guess the wrong number.Please Try Again!\")\n",
        "\n",
        "    print(f\"Computer's number was: {computer_number}\")\n",
        "    print(\"\\n🎉 Game Over! 🎉\")\n",
        "    print(\"Thanks for playing!\")\n",
        "    print(f\"Your final score: {player_score} out of {rounds}\")\n",
        "\n",
        "if __name__==\"__main__\":\n",
        "  high_low_game()"
      ]
    },
    {
      "cell_type": "markdown",
      "metadata": {
        "id": "MY23Ic6BwCMH"
      },
      "source": [
        "# ***planetary_weight_calculator***\n",
        "\n"
      ]
    },
    {
      "cell_type": "code",
      "execution_count": null,
      "metadata": {
        "colab": {
          "base_uri": "https://localhost:8080/"
        },
        "id": "ROqm8h0XwRzD",
        "outputId": "99b4ac39-537f-43f9-9c42-05580a66e247"
      },
      "outputs": [
        {
          "name": "stdout",
          "output_type": "stream",
          "text": [
            "\n",
            "🌍 Welcome to the Planetary Weight Calculator! 🚀\n",
            "Enter your weight on Earth (in kg): 75\n",
            "\n",
            "Select a planet:\n",
            "- Mercury\n",
            "- Venus\n",
            "- Mars\n",
            "- Jupiter\n",
            "- Saturn\n",
            "- Uranus\n",
            "- Neptune\n",
            "\n",
            "Enter the name of the planet: Jupiter\n",
            "\n",
            "🌟 Your weight on Jupiter would be: 175.50 kg\n"
          ]
        }
      ],
      "source": [
        "def planetary_weight_calculator():\n",
        "    print(\"\\n🌍 Welcome to the Planetary Weight Calculator! 🚀\")\n",
        "\n",
        "    # Get user input\n",
        "    earth_weight = float(input(\"Enter your weight on Earth (in kg): \"))\n",
        "\n",
        "    # Dictionary storing gravity ratios\n",
        "    gravity_ratios = {\n",
        "        \"Mercury\": 0.38,\n",
        "        \"Venus\": 0.91,\n",
        "        \"Mars\": 0.38,\n",
        "        \"Jupiter\": 2.34,\n",
        "        \"Saturn\": 1.06,\n",
        "        \"Uranus\": 0.92,\n",
        "        \"Neptune\": 1.19\n",
        "    }\n",
        "\n",
        "    # Display planets to choose from\n",
        "    print(\"\\nSelect a planet:\")\n",
        "    for planet in gravity_ratios:\n",
        "        print(f\"- {planet}\")\n",
        "\n",
        "    # Get user choice\n",
        "    planet_choice = input(\"\\nEnter the name of the planet: \").title()\n",
        "\n",
        "    # Check if the planet exists\n",
        "    if planet_choice in gravity_ratios:\n",
        "        new_weight = earth_weight * gravity_ratios[planet_choice]\n",
        "        print(f\"\\n🌟 Your weight on {planet_choice} would be: {new_weight:.2f} kg\")\n",
        "    else:\n",
        "        print(\"\\n❌ Invalid planet name! Please try again.\")\n",
        "\n",
        "# Run the calculator\n",
        "if __name__ == \"__main__\":\n",
        "    planetary_weight_calculator()\n"
      ]
    },
    {
      "cell_type": "markdown",
      "metadata": {
        "id": "YQiDxBnKwv-J"
      },
      "source": [
        "# ***access_element***"
      ]
    },
    {
      "cell_type": "code",
      "execution_count": null,
      "metadata": {
        "colab": {
          "background_save": true,
          "base_uri": "https://localhost:8080/"
        },
        "id": "8iOk2X7Sww8W",
        "outputId": "7cff7738-a3d0-4a4e-df05-fa4b2813595e"
      },
      "outputs": [
        {
          "name": "stdout",
          "output_type": "stream",
          "text": [
            "\n",
            "🎮 Welcome to the List Manipulation Game! 🎮\n",
            "\n",
            "📜 Current List: ['apple', 'banana', 'cherry', 'date', 'elderberry']\n",
            "\n",
            "Select an operation:\n",
            "1️⃣ Access an element\n",
            "2️⃣ Modify an element\n",
            "3️⃣ Slice the list\n",
            "4️⃣ Quit\n"
          ]
        }
      ],
      "source": [
        "def access_element(my_list, index):\n",
        "    \"\"\"Returns the element at the specified index, or an error message if out of range.\"\"\"\n",
        "    if 0 <= index < len(my_list):\n",
        "        return f\"Element at index {index}: {my_list[index]}\"\n",
        "    return \"❌ Index out of range!\"\n",
        "\n",
        "def modify_element(my_list, index, new_value):\n",
        "    \"\"\"Replaces an element at the given index with a new value.\"\"\"\n",
        "    if 0 <= index < len(my_list):\n",
        "        old_value = my_list[index]\n",
        "        my_list[index] = new_value\n",
        "        return f\"✅ Updated element at index {index}: {old_value} ➝ {new_value}\"\n",
        "    return \"❌ Index out of range!\"\n",
        "\n",
        "def slice_list(my_list, start, end):\n",
        "    \"\"\"Returns a slice of the list based on user-provided indices.\"\"\"\n",
        "    if 0 <= start < len(my_list) and 0 <= end <= len(my_list):\n",
        "        return f\"Sliced list: {my_list[start:end]}\"\n",
        "    return \"❌ Invalid slice indices!\"\n",
        "\n",
        "def list_game():\n",
        "    \"\"\"Interactive game for list manipulation.\"\"\"\n",
        "    print(\"\\n🎮 Welcome to the List Manipulation Game! 🎮\")\n",
        "\n",
        "    # Initialize the list\n",
        "    my_list = [\"apple\", \"banana\", \"cherry\", \"date\", \"elderberry\"]\n",
        "\n",
        "    while True:\n",
        "        # Show the current list\n",
        "        print(\"\\n📜 Current List:\", my_list)\n",
        "\n",
        "        # Menu options\n",
        "        print(\"\\nSelect an operation:\")\n",
        "        print(\"1️⃣ Access an element\")\n",
        "        print(\"2️⃣ Modify an element\")\n",
        "        print(\"3️⃣ Slice the list\")\n",
        "        print(\"4️⃣ Quit\")\n",
        "\n",
        "        # Get user choice\n",
        "        choice = input(\"Enter your choice (1-4): \")\n",
        "\n",
        "        if choice == \"1\":\n",
        "            index = int(input(\"Enter the index to access: \"))\n",
        "            print(access_element(my_list, index))\n",
        "\n",
        "        elif choice == \"2\":\n",
        "            index = int(input(\"Enter the index to modify: \"))\n",
        "            new_value = input(\"Enter the new value: \")\n",
        "            print(modify_element(my_list, index, new_value))\n",
        "\n",
        "        elif choice == \"3\":\n",
        "            start = int(input(\"Enter the start index for slicing: \"))\n",
        "            end = int(input(\"Enter the end index for slicing: \"))\n",
        "            print(slice_list(my_list, start, end))\n",
        "\n",
        "        elif choice == \"4\":\n",
        "            print(\"🚀 Exiting the game. Thanks for playing!\")\n",
        "            break\n",
        "\n",
        "        else:\n",
        "            print(\"❌ Invalid choice! Please enter a number between 1 and 4.\")\n",
        "\n",
        "# Run the game\n",
        "if __name__ == \"__main__\":\n",
        "    list_game()\n"
      ]
    }
  ],
  "metadata": {
    "colab": {
      "provenance": [],
      "authorship_tag": "ABX9TyNTGak0F7PlqdxW+Q/Y62BB",
      "include_colab_link": true
    },
    "kernelspec": {
      "display_name": "Python 3",
      "name": "python3"
    },
    "language_info": {
      "name": "python"
    }
  },
  "nbformat": 4,
  "nbformat_minor": 0
}