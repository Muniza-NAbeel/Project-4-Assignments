{
  "nbformat": 4,
  "nbformat_minor": 0,
  "metadata": {
    "colab": {
      "provenance": [],
      "authorship_tag": "ABX9TyOY28Hc94LU4Ycbns7XMfwi",
      "include_colab_link": true
    },
    "kernelspec": {
      "name": "python3",
      "display_name": "Python 3"
    },
    "language_info": {
      "name": "python"
    }
  },
  "cells": [
    {
      "cell_type": "markdown",
      "metadata": {
        "id": "view-in-github",
        "colab_type": "text"
      },
      "source": [
        "<a href=\"https://colab.research.google.com/github/Muniza-NAbeel/Project-4-Assignments/blob/main/Number_guessing_game(user).ipynb\" target=\"_parent\"><img src=\"https://colab.research.google.com/assets/colab-badge.svg\" alt=\"Open In Colab\"/></a>"
      ]
    },
    {
      "cell_type": "code",
      "source": [
        "# Project 3 : Number guessing game (user)\n",
        "import random\n",
        "\n",
        "def computer_guess():\n",
        "    print(\"🎉 Welcome to the Guess the Number Game! 🎉\")\n",
        "    print(\"\\n Think of a number between 1 and 20, and I (the computer) will try to guess it.\")\n",
        "    print(\"After each guess, let me know if I should guess higher (h), lower (l), or if I got it right (y).\")\n",
        "\n",
        "    lower = 1\n",
        "    upper = 20\n",
        "    attempts = 0  # Track the number of attempts\n",
        "\n",
        "    while lower <= upper:\n",
        "        attempts += 1\n",
        "        guess = random.randint(lower, upper)\n",
        "        print(f\"\\n🤔 Is your number {guess}?\")\n",
        "\n",
        "        response = input(\"Enter 'h' for higher, 'l' for lower, or 'y' if correct: \").lower()\n",
        "\n",
        "        if response == 'y':\n",
        "            print(f\"🎉 Yay! I guessed your number {guess} correctly in {attempts} attempts! 🏆\")\n",
        "            break\n",
        "        elif response == 'h':\n",
        "            lower = guess + 1\n",
        "        elif response == 'l':\n",
        "            upper = guess - 1\n",
        "        else:\n",
        "            print(\"⚠️ Invalid input! Please enter 'h', 'l', or 'y'.\")\n",
        "\n",
        "    if lower > upper:\n",
        "        print(\"🤔 It seems like something went wrong. Did you change your number? 😅\")\n",
        "\n",
        "# Run the game\n",
        "computer_guess()\n"
      ],
      "metadata": {
        "colab": {
          "base_uri": "https://localhost:8080/"
        },
        "id": "GkaBmk2IZGdm",
        "outputId": "4ad73ce6-4d3d-4d82-c53a-67ca25659d59"
      },
      "execution_count": null,
      "outputs": [
        {
          "output_type": "stream",
          "name": "stdout",
          "text": [
            "🎉 Welcome to the Guess the Number Game! 🎉\n",
            "\n",
            " Think of a number between 1 and 20, and I (the computer) will try to guess it.\n",
            "After each guess, let me know if I should guess higher (h), lower (l), or if I got it right (y).\n",
            "\n",
            "🤔 Is your number 5?\n",
            "Enter 'h' for higher, 'l' for lower, or 'y' if correct: h\n",
            "\n",
            "🤔 Is your number 10?\n",
            "Enter 'h' for higher, 'l' for lower, or 'y' if correct: h\n",
            "\n",
            "🤔 Is your number 20?\n",
            "Enter 'h' for higher, 'l' for lower, or 'y' if correct: l\n",
            "\n",
            "🤔 Is your number 16?\n",
            "Enter 'h' for higher, 'l' for lower, or 'y' if correct: h\n",
            "\n",
            "🤔 Is your number 17?\n",
            "Enter 'h' for higher, 'l' for lower, or 'y' if correct: h\n",
            "\n",
            "🤔 Is your number 18?\n",
            "Enter 'h' for higher, 'l' for lower, or 'y' if correct: h\n",
            "\n",
            "🤔 Is your number 19?\n",
            "Enter 'h' for higher, 'l' for lower, or 'y' if correct: y\n",
            "🎉 Yay! I guessed your number 19 correctly in 7 attempts! 🏆\n"
          ]
        }
      ]
    }
  ]
}