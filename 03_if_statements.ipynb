{
  "nbformat": 4,
  "nbformat_minor": 0,
  "metadata": {
    "colab": {
      "provenance": [],
      "authorship_tag": "ABX9TyMj7+VqH4yV1u3hFyvh8RAn",
      "include_colab_link": true
    },
    "kernelspec": {
      "name": "python3",
      "display_name": "Python 3"
    },
    "language_info": {
      "name": "python"
    }
  },
  "cells": [
    {
      "cell_type": "markdown",
      "metadata": {
        "id": "view-in-github",
        "colab_type": "text"
      },
      "source": [
        "<a href=\"https://colab.research.google.com/github/Muniza-NAbeel/Project-4-Assignments/blob/main/03_if_statements.ipynb\" target=\"_parent\"><img src=\"https://colab.research.google.com/assets/colab-badge.svg\" alt=\"Open In Colab\"/></a>"
      ]
    },
    {
      "cell_type": "markdown",
      "source": [
        "# **01_print_events**"
      ],
      "metadata": {
        "id": "qkWNeBhtNRqD"
      }
    },
    {
      "cell_type": "code",
      "source": [
        "# Define a function named 'even' to generate even numbers\n",
        "def even():\n",
        "    # Loop through numbers from 0 to 19\n",
        "    for i in range(20):\n",
        "        # Calculate the even number by multiplying the current index by 2\n",
        "        even = i * 2\n",
        "        # Print the calculated even number\n",
        "        print(even)\n",
        "\n",
        "if __name__ == \"__main__\":\n",
        "    even()\n"
      ],
      "metadata": {
        "colab": {
          "base_uri": "https://localhost:8080/"
        },
        "id": "fFEoDfhNNUnJ",
        "outputId": "be631363-4507-4372-991a-83471e82c89b"
      },
      "execution_count": null,
      "outputs": [
        {
          "output_type": "stream",
          "name": "stdout",
          "text": [
            "0\n",
            "2\n",
            "4\n",
            "6\n",
            "8\n",
            "10\n",
            "12\n",
            "14\n",
            "16\n",
            "18\n",
            "20\n",
            "22\n",
            "24\n",
            "26\n",
            "28\n",
            "30\n",
            "32\n",
            "34\n",
            "36\n",
            "38\n"
          ]
        }
      ]
    },
    {
      "cell_type": "markdown",
      "source": [
        "# **02_international_voting_age**"
      ],
      "metadata": {
        "id": "8VxAaVECO4gv"
      }
    },
    {
      "cell_type": "code",
      "source": [
        "# Define age thresholds\n",
        "PETURKSBOUIPO_AGE: int = 16\n",
        "STANLAU_AGE: int = 25\n",
        "MAYENGUA_AGE: int = 48\n",
        "\n",
        "# Get the user's age\n",
        "user_age = int(input(\"How old are you? \"))\n",
        "\n",
        "def main():\n",
        "    # Check if the user can vote in Peturksbouipo\n",
        "    if user_age >= PETURKSBOUIPO_AGE:\n",
        "        print(f\"Your age is {user_age}. You are eligible to vote in PETURKSBOUIPO!\")\n",
        "    else:\n",
        "        print(f\"Your age is {user_age}. You are not eligible to vote in PETURKSBOUIPO!\")\n",
        "\n",
        "    # Check if the user can vote in Stanlau\n",
        "    if user_age >= STANLAU_AGE:\n",
        "        print(f\"Your age is {user_age}. You are eligible to vote in STANLAU!\")\n",
        "    else:\n",
        "        print(f\"Your age is {user_age}. You are not eligible to vote in STANLAU!\")\n",
        "\n",
        "    # Check if the user can vote in Mayengua\n",
        "    if user_age >= MAYENGUA_AGE:\n",
        "        print(f\"Your age is {user_age}. You are eligible to vote in MAYENGUA!\")\n",
        "    else:\n",
        "        print(f\"Your age is {user_age}. You are not eligible to vote in MAYENGUA!\")\n",
        "\n",
        "# Entry point of the script\n",
        "if __name__ == \"__main__\":\n",
        "    main()\n"
      ],
      "metadata": {
        "colab": {
          "base_uri": "https://localhost:8080/"
        },
        "id": "DoGOS5PwO7mF",
        "outputId": "708d2814-bc21-4973-ac2a-91411381f91f"
      },
      "execution_count": null,
      "outputs": [
        {
          "output_type": "stream",
          "name": "stdout",
          "text": [
            "How old are you? 18\n",
            "Your age is 18. You are eligible to vote in PETURKSBOUIPO!\n",
            "Your age is 18. You are not eligible to vote in STANLAU!\n",
            "Your age is 18. You are not eligible to vote in MAYENGUA!\n"
          ]
        }
      ]
    },
    {
      "cell_type": "markdown",
      "source": [
        "# **03_leap_year:**"
      ],
      "metadata": {
        "id": "naswn6t4Ss7Q"
      }
    },
    {
      "cell_type": "code",
      "source": [
        "# Define the function to check for leap year\n",
        "def leap_year():\n",
        "    # Inform the user about the purpose of the program\n",
        "    print(\"This program checks if a year is a leap year.\")\n",
        "\n",
        "    # Prompt the user to input a year\n",
        "    year = int(input(\"Enter a year: \"))\n",
        "\n",
        "    # Check if the year is divisible by 4\n",
        "    if year % 4 == 0:\n",
        "        # If divisible by 4, check if it's divisible by 100\n",
        "        if year % 100 == 0:\n",
        "            # If divisible by 100, check if it's divisible by 400\n",
        "            if year % 400 == 0:\n",
        "                # If divisible by 400, it is a leap year\n",
        "                print(f\"{year} is a leap year.\")\n",
        "            else:\n",
        "                # If not divisible by 400, it is not a leap year\n",
        "                print(f\"{year} is not a leap year.\")\n",
        "        else:\n",
        "            # If not divisible by 100 but divisible by 4, it is a leap year\n",
        "            print(f\"{year} is a leap year.\")\n",
        "    else:\n",
        "        # If not divisible by 4, it is not a leap year\n",
        "        print(f\"{year} is not a leap year.\")\n",
        "\n",
        "# Check if the script is executed directly\n",
        "if __name__ == \"__main__\":\n",
        "    # Call the leap_year function\n",
        "    leap_year()\n"
      ],
      "metadata": {
        "colab": {
          "base_uri": "https://localhost:8080/"
        },
        "id": "FZWwbXtlThgw",
        "outputId": "760e93a3-2dc8-4170-b6a7-d3377ac13436"
      },
      "execution_count": null,
      "outputs": [
        {
          "output_type": "stream",
          "name": "stdout",
          "text": [
            "This program checks if a year is a leap year.\n",
            "Enter a year: 2025\n",
            "2025 is not a leap year.\n"
          ]
        }
      ]
    },
    {
      "cell_type": "markdown",
      "source": [
        "# **04_tall_enough_to_ride**"
      ],
      "metadata": {
        "id": "o30yC-0HUmw5"
      }
    },
    {
      "cell_type": "code",
      "source": [
        "# Define the minimum height required to ride\n",
        "MIN_HEIGHT: int = 50\n",
        "\n",
        "# Main function to check height\n",
        "def main():\n",
        "    # Get the user's height as input\n",
        "    user = int(input(\"How tall are you? \"))\n",
        "\n",
        "    # Check if the user meets the height requirement\n",
        "    if user >= MIN_HEIGHT:\n",
        "        print(\"You are tall enough to ride.\")\n",
        "    else:\n",
        "        print(\"You are not tall enough to ride. Maybe next year.\")\n",
        "\n",
        "# Check if the script is run directly\n",
        "if __name__ == \"__main__\":\n",
        "    main()\n"
      ],
      "metadata": {
        "colab": {
          "base_uri": "https://localhost:8080/"
        },
        "id": "x2jMi4NjUpH7",
        "outputId": "02e297fd-de35-4388-b754-4d62a753c7a0"
      },
      "execution_count": null,
      "outputs": [
        {
          "output_type": "stream",
          "name": "stdout",
          "text": [
            "How tall are you? 40\n",
            "You are not tall enough to ride. Maybe next year.\n"
          ]
        }
      ]
    },
    {
      "cell_type": "markdown",
      "source": [
        "# **05_random_numbers**"
      ],
      "metadata": {
        "id": "G7KC8YCBV41N"
      }
    },
    {
      "cell_type": "code",
      "source": [
        "import random\n",
        "\n",
        "def main():\n",
        "  for i in range(10):\n",
        "    print(random.randint(1, 100))\n",
        "\n",
        "if __name__ == \"__main__\":\n",
        "  main()\n"
      ],
      "metadata": {
        "colab": {
          "base_uri": "https://localhost:8080/"
        },
        "id": "KqRlzUoIV7D9",
        "outputId": "818cd9b0-72b0-45e7-f57e-97449739cbfa"
      },
      "execution_count": null,
      "outputs": [
        {
          "output_type": "stream",
          "name": "stdout",
          "text": [
            "56\n",
            "39\n",
            "2\n",
            "67\n",
            "82\n",
            "52\n",
            "45\n",
            "20\n",
            "72\n",
            "78\n"
          ]
        }
      ]
    }
  ]
}