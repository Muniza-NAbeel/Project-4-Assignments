{
  "nbformat": 4,
  "nbformat_minor": 0,
  "metadata": {
    "colab": {
      "provenance": [],
      "authorship_tag": "ABX9TyMPjMKVINmf7tQwSSIve/rA",
      "include_colab_link": true
    },
    "kernelspec": {
      "name": "python3",
      "display_name": "Python 3"
    },
    "language_info": {
      "name": "python"
    }
  },
  "cells": [
    {
      "cell_type": "markdown",
      "metadata": {
        "id": "view-in-github",
        "colab_type": "text"
      },
      "source": [
        "<a href=\"https://colab.research.google.com/github/Muniza-NAbeel/Project-4-Assignments/blob/main/05_loops_control_flow.ipynb\" target=\"_parent\"><img src=\"https://colab.research.google.com/assets/colab-badge.svg\" alt=\"Open In Colab\"/></a>"
      ]
    },
    {
      "cell_type": "markdown",
      "source": [
        "# **00_guess_my_number**"
      ],
      "metadata": {
        "id": "nz5urFeTkxo4"
      }
    },
    {
      "cell_type": "code",
      "source": [
        "import random\n",
        "\n",
        "def guess_the_number():\n",
        "    \"\"\"Project: Guess the Number Guessing Game.\"\"\"\n",
        "    number = random.randint(1, 100)  # Generate a random number between 1 and 100\n",
        "    attempts_left = 7  # Number of attempts the user has to guess the number\n",
        "\n",
        "    print(\"Welcome to the number guessing game!\")\n",
        "    print(\"I am thinking of a number between 1 and 100.\")\n",
        "    print(\"You have 7 attempts to guess the number.\")\n",
        "\n",
        "    # Game loop\n",
        "    while attempts_left > 0:\n",
        "        print(f\"\\nYou have {attempts_left} attempts left.\")\n",
        "        try:\n",
        "            guess = int(input(\"Take a guess: \"))  # Prompt the user to guess\n",
        "        except ValueError:\n",
        "            print(\"Please enter a valid number.\")  # Handle non-integer input\n",
        "            continue\n",
        "\n",
        "        # Compare the user's guess with the secret number\n",
        "        if guess < number:\n",
        "            print(\"Too low! Try again.\")\n",
        "        elif guess > number:\n",
        "            print(\"Too high! Try again.\")\n",
        "        else:\n",
        "            print(f\"Congratulations! You guessed the number in {7 - attempts_left + 1} attempts.\")\n",
        "            return  # Exit the game if the user guesses correctly\n",
        "\n",
        "        attempts_left -= 1  # Decrease the attempts left\n",
        "\n",
        "    # If the user fails to guess within the allowed attempts\n",
        "    print(f\"Sorry, you didn't guess the number. The number was {number}.\")\n",
        "\n",
        "# Run the game\n",
        "guess_the_number()\n"
      ],
      "metadata": {
        "colab": {
          "base_uri": "https://localhost:8080/"
        },
        "id": "VfSMeXqYk2bO",
        "outputId": "cb17d3e1-5b86-4731-ea64-2800c8d78c07"
      },
      "execution_count": 1,
      "outputs": [
        {
          "output_type": "stream",
          "name": "stdout",
          "text": [
            "Welcome to the number guessing game!\n",
            "I am thinking of a number between 1 and 100.\n",
            "You have 7 attempts to guess the number.\n",
            "\n",
            "You have 7 attempts left.\n",
            "Take a guess: 60\n",
            "Too low! Try again.\n",
            "\n",
            "You have 6 attempts left.\n",
            "Take a guess: 80\n",
            "Too high! Try again.\n",
            "\n",
            "You have 5 attempts left.\n",
            "Take a guess: 70\n",
            "Too high! Try again.\n",
            "\n",
            "You have 4 attempts left.\n",
            "Take a guess: 65\n",
            "Too low! Try again.\n",
            "\n",
            "You have 3 attempts left.\n",
            "Take a guess: 67\n",
            "Too low! Try again.\n",
            "\n",
            "You have 2 attempts left.\n",
            "Take a guess: 68\n",
            "Congratulations! You guessed the number in 6 attempts.\n"
          ]
        }
      ]
    },
    {
      "cell_type": "markdown",
      "source": [
        "# **01_fibonacci**"
      ],
      "metadata": {
        "id": "H6C-IPtSlrwD"
      }
    },
    {
      "cell_type": "code",
      "source": [
        "# Program to generate Fibonacci series up to a maximum value\n",
        "\n",
        "max_value = 10000  # Setting the maximum limit for the Fibonacci series\n",
        "\n",
        "# Defining the main function\n",
        "def main():\n",
        "    a, b = 0, 1  # Initializing the first two numbers of the Fibonacci series\n",
        "    print(a, b, end=\" \")  # Printing the first two numbers\n",
        "\n",
        "    while True:  # Starting an infinite loop to generate Fibonacci numbers\n",
        "        c = a + b  # Calculating the next number in the series\n",
        "        if c >= max_value:  # Checking if the number exceeds the maximum limit\n",
        "            break  # Exit the loop if the number is greater than or equal to max_value\n",
        "        print(c, end=\" \")  # Printing the next number in the series\n",
        "        a, b = b, c  # Updating the values of a and b for the next iteration\n",
        "\n",
        "if __name__ == \"__main__\":\n",
        "    main()\n"
      ],
      "metadata": {
        "colab": {
          "base_uri": "https://localhost:8080/"
        },
        "id": "-AOrDhHtlugJ",
        "outputId": "a1721b5d-3662-402c-a520-aa04a156fdc3"
      },
      "execution_count": 2,
      "outputs": [
        {
          "output_type": "stream",
          "name": "stdout",
          "text": [
            "0 1 1 2 3 5 8 13 21 34 55 89 144 233 377 610 987 1597 2584 4181 6765 "
          ]
        }
      ]
    },
    {
      "cell_type": "markdown",
      "source": [
        "# **02_print_events**"
      ],
      "metadata": {
        "id": "Ge2P7pqkoQE9"
      }
    },
    {
      "cell_type": "code",
      "source": [
        "# Function to print the first 20 even numbers\n",
        "\n",
        "def main():\n",
        "    # Loop through numbers from 0 to 19\n",
        "    for i in range(20):\n",
        "        # Multiply the current number by 2 to get the even number and print it\n",
        "        print(i * 2)\n",
        "\n",
        "if __name__ == \"__main__\":\n",
        "    main()\n"
      ],
      "metadata": {
        "colab": {
          "base_uri": "https://localhost:8080/"
        },
        "id": "T_KM80b1oScO",
        "outputId": "c6d2ad9b-d084-4f3f-b8a1-2c9cf3bc99d4"
      },
      "execution_count": 4,
      "outputs": [
        {
          "output_type": "stream",
          "name": "stdout",
          "text": [
            "0\n",
            "2\n",
            "4\n",
            "6\n",
            "8\n",
            "10\n",
            "12\n",
            "14\n",
            "16\n",
            "18\n",
            "20\n",
            "22\n",
            "24\n",
            "26\n",
            "28\n",
            "30\n",
            "32\n",
            "34\n",
            "36\n",
            "38\n"
          ]
        }
      ]
    },
    {
      "cell_type": "markdown",
      "source": [
        "# **03_wholesome_machine**"
      ],
      "metadata": {
        "id": "vO1HjtgIox7u"
      }
    },
    {
      "cell_type": "code",
      "source": [
        "# Program to encourage the user with a positive affirmation\n",
        "\n",
        "# Defining the correct affirmation to be matched by the user\n",
        "correct_affirmation = \"I am capable of doing anything. I put my mind too.\"\n",
        "\n",
        "def main():\n",
        "    # Greeting the user and introducing the program\n",
        "    print(\"Welcome to the Wholesome Machine\")\n",
        "\n",
        "    while True:  # Starting an infinite loop to keep asking for the correct affirmation\n",
        "        # Prompting the user to type the correct affirmation\n",
        "        user_input = input(\"Please type the following affirmation: \" + correct_affirmation)\n",
        "\n",
        "        if user_input == correct_affirmation:  # Checking if the user input matches the correct affirmation\n",
        "            print(\"That's right!\")  # Encouraging the user for typing the correct affirmation\n",
        "            break  # Exiting the loop once the user gets it right\n",
        "        else:\n",
        "            # Informing the user that the input was incorrect and prompting them to try again\n",
        "            print(\"Hmmm That was not the affirmation. Please Try Again!\")\n",
        "\n",
        "if __name__ == \"__main__\":\n",
        "    main()\n"
      ],
      "metadata": {
        "colab": {
          "base_uri": "https://localhost:8080/"
        },
        "id": "NiHu1XUlo0AT",
        "outputId": "2ab120b0-4553-4194-8e42-fdf883a9e7a3"
      },
      "execution_count": 7,
      "outputs": [
        {
          "output_type": "stream",
          "name": "stdout",
          "text": [
            "Welcome to the Wholesome Machine\n",
            "Please type the following affirmation: I am capable of doing anything. I put my mind too.Ook.\n",
            "Hmmm That was not the affirmation. Please Try Again!\n",
            "Please type the following affirmation: I am capable of doing anything. I put my mind too.I am capable of doing anything. I put my mind too.\n",
            "That's right!\n"
          ]
        }
      ]
    },
    {
      "cell_type": "markdown",
      "source": [
        "# **04_liftoff**"
      ],
      "metadata": {
        "id": "5cPW4eaMp8dd"
      }
    },
    {
      "cell_type": "code",
      "source": [
        "# Program to perform a countdown from 10 to 1 and then display \"liftoff\"\n",
        "\n",
        "def main():\n",
        "    # Loop to count down from 10 to 1 in reverse order\n",
        "    for i in range(10, 0, -1):  # range(start, stop, step): starts from 10, stops before 0, decreases by 1\n",
        "        print(i, end=\" \")  # Print each number on the same line with a space in between\n",
        "    # After the countdown, print \"liftoff\" with a rocket emoji\n",
        "    print(\"liftoff🚀\")\n",
        "\n",
        "if __name__ == \"__main__\":\n",
        "    main()\n"
      ],
      "metadata": {
        "colab": {
          "base_uri": "https://localhost:8080/"
        },
        "id": "s4_Y4Vtkp_pj",
        "outputId": "cbca94ff-4ef2-4ae9-e54c-9f234786e441"
      },
      "execution_count": 8,
      "outputs": [
        {
          "output_type": "stream",
          "name": "stdout",
          "text": [
            "10 9 8 7 6 5 4 3 2 1 liftoff🚀\n"
          ]
        }
      ]
    },
    {
      "cell_type": "markdown",
      "source": [
        "# **05_double_it**"
      ],
      "metadata": {
        "id": "C-9mN_tvqjOO"
      }
    },
    {
      "cell_type": "code",
      "source": [
        "# Program to double a number repeatedly until it is 100 or more\n",
        "def main():\n",
        "    # Asking the user to input a number\n",
        "    user_value = int(input(\"Enter a number: \"))  # Convert the input to an integer\n",
        "\n",
        "    while user_value < 100:  # Continue doubling while the value is less than 100\n",
        "        user_value = user_value * 2  # Double the current value\n",
        "        print(user_value)  # Print the new value\n",
        "\n",
        "if __name__ == \"__main__\":\n",
        "    main()\n"
      ],
      "metadata": {
        "colab": {
          "base_uri": "https://localhost:8080/"
        },
        "id": "DtUtbXFtqjoz",
        "outputId": "5e503137-f326-46b6-fe2d-9c0f98394fac"
      },
      "execution_count": 9,
      "outputs": [
        {
          "output_type": "stream",
          "name": "stdout",
          "text": [
            "Enter a number: 2 \n",
            "4\n",
            "8\n",
            "16\n",
            "32\n",
            "64\n",
            "128\n"
          ]
        }
      ]
    }
  ]
}