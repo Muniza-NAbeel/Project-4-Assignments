{
  "nbformat": 4,
  "nbformat_minor": 0,
  "metadata": {
    "colab": {
      "provenance": [],
      "authorship_tag": "ABX9TyPRCsjfUm6Nr1f1AqLqqCCX",
      "include_colab_link": true
    },
    "kernelspec": {
      "name": "python3",
      "display_name": "Python 3"
    },
    "language_info": {
      "name": "python"
    }
  },
  "cells": [
    {
      "cell_type": "markdown",
      "metadata": {
        "id": "view-in-github",
        "colab_type": "text"
      },
      "source": [
        "<a href=\"https://colab.research.google.com/github/Muniza-NAbeel/Project-4-Assignments/blob/main/rock_paper_scissors_game.ipynb\" target=\"_parent\"><img src=\"https://colab.research.google.com/assets/colab-badge.svg\" alt=\"Open In Colab\"/></a>"
      ]
    },
    {
      "cell_type": "code",
      "execution_count": null,
      "metadata": {
        "colab": {
          "base_uri": "https://localhost:8080/"
        },
        "id": "dgq31N39a8YU",
        "outputId": "5eb3ecbc-6cb2-4794-c962-9a529399a712"
      },
      "outputs": [
        {
          "output_type": "stream",
          "name": "stdout",
          "text": [
            "Enter your choice (rock, paper, scissors): rock\n",
            "\n",
            "Player chose: rock\n",
            "Computer chose: paper\n",
            "Computer wins!\n",
            "\n",
            "Do you want to play again? (yes/no): yes\n",
            "\n",
            "Let's play again!\n",
            "Enter your choice (rock, paper, scissors): rock\n",
            "\n",
            "Player chose: rock\n",
            "Computer chose: scissors\n",
            "Player wins!\n",
            "\n",
            "Do you want to play again? (yes/no): n\n",
            "Invalid response. Exiting the game...  Goodbye!  :)\n"
          ]
        }
      ],
      "source": [
        "import random\n",
        "\n",
        "# Game choices\n",
        "choices = ['rock', 'paper', 'scissors']\n",
        "\n",
        "def get_winner(player_choice, computer_choice):\n",
        "    # Decision logic\n",
        "    if player_choice == computer_choice:\n",
        "        return \"tie\"\n",
        "    elif (player_choice == 'rock' and computer_choice == 'scissors') or \\\n",
        "         (player_choice == 'paper' and computer_choice == 'rock') or \\\n",
        "         (player_choice == 'scissors' and computer_choice == 'paper'):\n",
        "        return \"player\"\n",
        "    else:\n",
        "        return \"computer\"\n",
        "\n",
        "while True:\n",
        "    # Player choice with validation\n",
        "    player_choice = input(\"Enter your choice (rock, paper, scissors): \").lower()\n",
        "    if player_choice not in choices:\n",
        "        print(\"Invalid choice. Please choose rock, paper, or scissors.\")\n",
        "        continue\n",
        "\n",
        "    # Computer choice\n",
        "    computer_choice = random.choice(choices)\n",
        "\n",
        "    # Determine winner\n",
        "    result = get_winner(player_choice, computer_choice)\n",
        "\n",
        "    # Display results\n",
        "    print(f\"\\nPlayer chose: {player_choice}\")\n",
        "    print(f\"Computer chose: {computer_choice}\")\n",
        "\n",
        "    if result == \"tie\":\n",
        "        print(\"It's a tie!\")\n",
        "    elif result == \"player\":\n",
        "        print(\"Player wins!\")\n",
        "    else:\n",
        "        print(\"Computer wins!\")\n",
        "\n",
        "    # Replay option\n",
        "    play_again = input(\"\\nDo you want to play again? (yes/no): \").lower()\n",
        "    if play_again == \"yes\":\n",
        "        print(\"\\nLet's play again!\")\n",
        "        continue\n",
        "    elif play_again == \"no\":\n",
        "        print(\"Thanks for playing! Goodbye!\")\n",
        "        break\n",
        "    else:\n",
        "        print(\"Invalid response. Exiting the game...  Goodbye!  :)\")\n",
        "        break\n",
        "\n",
        "\n"
      ]
    }
  ]
}