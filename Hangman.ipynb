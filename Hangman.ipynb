{
  "nbformat": 4,
  "nbformat_minor": 0,
  "metadata": {
    "colab": {
      "provenance": [],
      "authorship_tag": "ABX9TyOfy0ESOLMyJHrtap3+KUvr",
      "include_colab_link": true
    },
    "kernelspec": {
      "name": "python3",
      "display_name": "Python 3"
    },
    "language_info": {
      "name": "python"
    }
  },
  "cells": [
    {
      "cell_type": "markdown",
      "metadata": {
        "id": "view-in-github",
        "colab_type": "text"
      },
      "source": [
        "<a href=\"https://colab.research.google.com/github/Muniza-NAbeel/Project-4-Assignments/blob/main/Hangman.ipynb\" target=\"_parent\"><img src=\"https://colab.research.google.com/assets/colab-badge.svg\" alt=\"Open In Colab\"/></a>"
      ]
    },
    {
      "cell_type": "markdown",
      "source": [
        "# **Hangman**"
      ],
      "metadata": {
        "id": "SHqyGgtEwMGo"
      }
    },
    {
      "cell_type": "code",
      "source": [
        "import random\n",
        "import string\n",
        "\n",
        "# List of words to guess\n",
        "words = [\"python\", \"java\", \"kotlin\", \"javascript\", \"hangman\"]\n",
        "\n",
        "def get_valid_word(words):\n",
        "    word = random.choice(words)  # randomly chooses something from the list\n",
        "    while '-' in word or ' ' in word:\n",
        "        word = random.choice(words)\n",
        "    return word.upper()\n",
        "\n",
        "def hangman():\n",
        "    word = get_valid_word(words)\n",
        "    word_letters = set(word)  # letters in the word\n",
        "    alphabet = set(string.ascii_uppercase)\n",
        "    used_letters = set()  # what the user has guessed\n",
        "\n",
        "    lives = 7\n",
        "\n",
        "    # getting user input\n",
        "    while len(word_letters) > 0 and lives > 0:\n",
        "        # letters used\n",
        "        print('You have', lives, 'lives left and you have used these letters: ', ' '.join(used_letters))\n",
        "\n",
        "        # what current word is (ie W - R D)\n",
        "        word_list = [letter if letter in used_letters else '-' for letter in word]\n",
        "        print('Current word: ', ' '.join(word_list))\n",
        "\n",
        "        user_letter = input('Guess a letter: ').upper()\n",
        "        if user_letter in alphabet - used_letters:\n",
        "            used_letters.add(user_letter)\n",
        "            if user_letter in word_letters:\n",
        "                word_letters.remove(user_letter)\n",
        "                print('')\n",
        "\n",
        "            else:\n",
        "                lives = lives - 1  # takes away a life if wrong\n",
        "                print('\\nYour letter,', user_letter, 'is not in the word.')\n",
        "\n",
        "        elif user_letter in used_letters:\n",
        "            print('\\nYou have already used that letter. Guess another letter.')\n",
        "\n",
        "        else:\n",
        "            print('\\nThat is not a valid letter.')\n",
        "\n",
        "    # gets here when len(word_letters) == 0 OR when lives == 0\n",
        "    if lives == 0:\n",
        "        print('You died, sorry. The word was', word)\n",
        "    else:\n",
        "        print('YAY! You guessed the word', word, '!!')\n",
        "\n",
        "# Run the game\n",
        "hangman()\n"
      ],
      "metadata": {
        "colab": {
          "base_uri": "https://localhost:8080/"
        },
        "id": "Nx_vPMFKwOb8",
        "outputId": "8ec00cb5-2d75-434b-aa5c-285981027269"
      },
      "execution_count": null,
      "outputs": [
        {
          "output_type": "stream",
          "name": "stdout",
          "text": [
            "You have 7 lives left and you have used these letters:  \n",
            "Current word:  - - - -\n",
            "Guess a letter: p\n",
            "\n",
            "Your letter, P is not in the word.\n",
            "You have 6 lives left and you have used these letters:  P\n",
            "Current word:  - - - -\n",
            "Guess a letter: a\n",
            "\n",
            "You have 6 lives left and you have used these letters:  P A\n",
            "Current word:  - A - A\n",
            "Guess a letter: j\n",
            "\n",
            "You have 6 lives left and you have used these letters:  J P A\n",
            "Current word:  J A - A\n",
            "Guess a letter: v\n",
            "\n",
            "YAY! You guessed the word JAVA !!\n"
          ]
        }
      ]
    }
  ]
}