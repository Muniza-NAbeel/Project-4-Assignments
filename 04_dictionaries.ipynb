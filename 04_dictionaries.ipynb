{
  "nbformat": 4,
  "nbformat_minor": 0,
  "metadata": {
    "colab": {
      "provenance": [],
      "authorship_tag": "ABX9TyP+5y+eY9rYiUpfmNwGJ8x3",
      "include_colab_link": true
    },
    "kernelspec": {
      "name": "python3",
      "display_name": "Python 3"
    },
    "language_info": {
      "name": "python"
    }
  },
  "cells": [
    {
      "cell_type": "markdown",
      "metadata": {
        "id": "view-in-github",
        "colab_type": "text"
      },
      "source": [
        "<a href=\"https://colab.research.google.com/github/Muniza-NAbeel/Project-4-Assignments/blob/main/04_dictionaries.ipynb\" target=\"_parent\"><img src=\"https://colab.research.google.com/assets/colab-badge.svg\" alt=\"Open In Colab\"/></a>"
      ]
    },
    {
      "cell_type": "markdown",
      "source": [
        "# **00_count_nums**"
      ],
      "metadata": {
        "id": "ZfYBGQNsWqsG"
      }
    },
    {
      "cell_type": "code",
      "source": [
        "# Function to count numbers entered by the user\n",
        "def count_numbers():\n",
        "    # Initialize an empty dictionary to store the counts of each number\n",
        "    count_dict = {}\n",
        "\n",
        "    while True:  # Start an infinite loop for user input\n",
        "        # Prompt the user to enter a number or type 'Exit' to quit\n",
        "        num = input(\"Enter a number (or 'Exit' to quit): \")\n",
        "\n",
        "        # Check if the user entered 'Exit' (case-insensitive) to stop the loop\n",
        "        if num.lower() == 'exit':  # Convert input to lowercase for consistency\n",
        "            break  # Exit the loop\n",
        "\n",
        "        # Check if the input is a valid digit (positive integer)\n",
        "        if num.isdigit():\n",
        "            # Convert the valid input into an integer\n",
        "            num = int(num)\n",
        "\n",
        "            # Add the number to the dictionary or increment its count\n",
        "            count_dict[num] = count_dict.get(num, 0) + 1\n",
        "\n",
        "            # Display the current state of the dictionary to the user\n",
        "            print(count_dict)\n",
        "        else:\n",
        "            # Handle invalid input by showing an error message\n",
        "            print(\"Invalid input. Please enter a number or 'Exit'.\")\n",
        "\n",
        "            # Return the current dictionary of counts to avoid further errors\n",
        "            return count_dict\n",
        "\n",
        "    # Return the final dictionary containing the counts of all numbers entered\n",
        "    return count_dict\n",
        "\n",
        "# Function to display the counts of numbers stored in the dictionary\n",
        "def display_counts(count_dict):\n",
        "    # Print a header for the output\n",
        "    print(\"\\nNumber Counts:\")\n",
        "\n",
        "    # Iterate through the dictionary to print each number and its count\n",
        "    for key, value in count_dict.items():\n",
        "        print(f'{key} appears {value} times')\n",
        "\n",
        "# Main execution block\n",
        "if __name__ == \"__main__\":\n",
        "    # Call the count_numbers function to collect input and get the counts\n",
        "    count = count_numbers()\n",
        "\n",
        "    # Call the display_counts function to display the counts of numbers\n",
        "    display_counts(count)\n",
        "\n"
      ],
      "metadata": {
        "colab": {
          "base_uri": "https://localhost:8080/"
        },
        "id": "14nV1Qc5Wtch",
        "outputId": "49fdf6ca-b316-483b-e921-ed4d5feeed1a"
      },
      "execution_count": null,
      "outputs": [
        {
          "output_type": "stream",
          "name": "stdout",
          "text": [
            "Enter a number (or 'Exit' to quit): 2\n",
            "{2: 1}\n",
            "Enter a number (or 'Exit' to quit): 6\n",
            "{2: 1, 6: 1}\n",
            "Enter a number (or 'Exit' to quit): 9\n",
            "{2: 1, 6: 1, 9: 1}\n",
            "Enter a number (or 'Exit' to quit): 9\n",
            "{2: 1, 6: 1, 9: 2}\n",
            "Enter a number (or 'Exit' to quit): \n",
            "Invalid input. Please enter a number or 'Exit'.\n",
            "\n",
            "Number Counts:\n",
            "2 appears 1 times\n",
            "6 appears 1 times\n",
            "9 appears 2 times\n"
          ]
        }
      ]
    },
    {
      "cell_type": "markdown",
      "source": [
        "# **01_phonebook**"
      ],
      "metadata": {
        "id": "C_RZnD_BZII8"
      }
    },
    {
      "cell_type": "code",
      "source": [
        "# Function to add a contact to the phonebook\n",
        "def add_contact(phonebook):\n",
        "    # Prompt user to input the contact name and number\n",
        "    name: str = input(\"Enter Contact name: \")\n",
        "    number: int = int(input(\"Enter Contact number: \"))\n",
        "\n",
        "    # Check if the contact already exists in the phonebook\n",
        "    if name in phonebook:\n",
        "        print(f\"{name} already exists in the phonebook!\")\n",
        "    else:\n",
        "        # Add the contact to the phonebook\n",
        "        phonebook[name] = number\n",
        "        print(f\"{name} added to the phonebook!\")\n",
        "\n",
        "# Function to search for a contact in the phonebook\n",
        "def search_contact(phonebook):\n",
        "    # Prompt user to input the contact name to search\n",
        "    name: str = input(\"Enter Contact name to search: \")\n",
        "\n",
        "    # Check if the contact exists in the phonebook\n",
        "    if name in phonebook:\n",
        "        print(f\"{name}: {phonebook[name]}\")\n",
        "    else:\n",
        "        print(f\"{name} is not found in the phonebook!\")\n",
        "\n",
        "# Function to delete a contact from the phonebook\n",
        "def delete_contact(phonebook):\n",
        "    # Prompt user to input the contact name to delete\n",
        "    name: str = input(\"Enter Contact name to delete: \")\n",
        "\n",
        "    # Check if the contact exists in the phonebook\n",
        "    if name in phonebook:\n",
        "        # Delete the contact\n",
        "        del phonebook[name]\n",
        "        print(f\"{name} deleted from the phonebook!\")\n",
        "    else:\n",
        "        print(f\"{name} not found in phonebook!\")\n",
        "\n",
        "# Function to display all contacts in the phonebook\n",
        "def display_contact(phonebook):\n",
        "    # Check if the phonebook is not empty\n",
        "    if phonebook:\n",
        "        print(\"\\nPhonebook Contact list:\")\n",
        "        # Display each contact and their phone number\n",
        "        for name, number in phonebook.items():\n",
        "            print(f\"{name}: {number}\")\n",
        "    else:\n",
        "        print(\"Phonebook is empty!\")\n",
        "\n",
        "# Main program execution\n",
        "if __name__ == \"__main__\":\n",
        "    # Initialize an empty phonebook dictionary\n",
        "    phonebook = {}\n",
        "\n",
        "    while True:\n",
        "        # Display the menu options\n",
        "        print(\"\\nPhonebook Menu:\")\n",
        "        print(\"1. Add Contact\")\n",
        "        print(\"2. Search Contact\")\n",
        "        print(\"3. Delete Contact\")\n",
        "        print(\"4. Display Contact\")\n",
        "        print(\"5. Exit\")\n",
        "\n",
        "        # Prompt user to choose an option from the menu\n",
        "        choice = input(\"Enter your choice (1-5): \")\n",
        "\n",
        "        # Handle the user's choice\n",
        "        if choice == \"1\":\n",
        "            # Add a new contact\n",
        "            add_contact(phonebook)\n",
        "        elif choice == \"2\":\n",
        "            # Search for an existing contact\n",
        "            search_contact(phonebook)\n",
        "        elif choice == \"3\":\n",
        "            # Delete an existing contact\n",
        "            delete_contact(phonebook)\n",
        "        elif choice == \"4\":\n",
        "            # Display all contacts in the phonebook\n",
        "            display_contact(phonebook)\n",
        "        elif choice == \"5\":\n",
        "            # Exit the program\n",
        "            print(\"Exiting Phonebook... Goodbye!\")\n",
        "            break\n",
        "        else:\n",
        "            # Handle invalid input\n",
        "            print(\"Invalid choice. Please enter a number between 1 and 5.\")\n"
      ],
      "metadata": {
        "colab": {
          "base_uri": "https://localhost:8080/"
        },
        "id": "jA5QJ3pnZMV5",
        "outputId": "930fb195-36d7-455f-d133-b044a19f5409"
      },
      "execution_count": null,
      "outputs": [
        {
          "output_type": "stream",
          "name": "stdout",
          "text": [
            "\n",
            "Phonebook Menu:\n",
            "1. Add Contact\n",
            "2. Search Contact\n",
            "3. Delete Contact\n",
            "4. Display Contact\n",
            "5. Exit\n",
            "Enter your choice (1-5): 1\n",
            "Enter Contact name: Muniza\n",
            "Enter Contact number: 03128917521\n",
            "Muniza added to the phonebook!\n",
            "\n",
            "Phonebook Menu:\n",
            "1. Add Contact\n",
            "2. Search Contact\n",
            "3. Delete Contact\n",
            "4. Display Contact\n",
            "5. Exit\n",
            "Enter your choice (1-5): 2\n",
            "Enter Contact name to search: Muniza\n",
            "Muniza: 3128917521\n",
            "\n",
            "Phonebook Menu:\n",
            "1. Add Contact\n",
            "2. Search Contact\n",
            "3. Delete Contact\n",
            "4. Display Contact\n",
            "5. Exit\n",
            "Enter your choice (1-5): 4\n",
            "\n",
            "Phonebook Contact list:\n",
            "Muniza: 3128917521\n",
            "\n",
            "Phonebook Menu:\n",
            "1. Add Contact\n",
            "2. Search Contact\n",
            "3. Delete Contact\n",
            "4. Display Contact\n",
            "5. Exit\n",
            "Enter your choice (1-5): 3\n",
            "Enter Contact name to delete: muniza\n",
            "muniza not found in phonebook!\n",
            "\n",
            "Phonebook Menu:\n",
            "1. Add Contact\n",
            "2. Search Contact\n",
            "3. Delete Contact\n",
            "4. Display Contact\n",
            "5. Exit\n",
            "Enter your choice (1-5): 3\n",
            "Enter Contact name to delete: Muniza\n",
            "Muniza deleted from the phonebook!\n",
            "\n",
            "Phonebook Menu:\n",
            "1. Add Contact\n",
            "2. Search Contact\n",
            "3. Delete Contact\n",
            "4. Display Contact\n",
            "5. Exit\n",
            "Enter your choice (1-5): 5\n",
            "Exiting Phonebook... Goodbye!\n"
          ]
        }
      ]
    },
    {
      "cell_type": "markdown",
      "source": [
        "# **02_pop_up_shop**"
      ],
      "metadata": {
        "id": "MilrKnO4fDS6"
      }
    },
    {
      "cell_type": "code",
      "source": [
        "def calculate_total_cost():\n",
        "    # Dictionary with fruit names as keys and their prices as values\n",
        "    fruits_price = {\n",
        "        \"apple\": 1.00,\n",
        "        \"banana\": 0.50,\n",
        "        \"orange\": 0.75,\n",
        "        \"grape\": 1.20,\n",
        "        \"kiwi\": 1.50,\n",
        "        \"pineapple\": 2.00,\n",
        "    }\n",
        "\n",
        "    total_cost = 0  # Initialize total cost to 0\n",
        "\n",
        "    # Loop through each fruit and its price\n",
        "    for fruit, price in fruits_price.items():\n",
        "        while True:  # Keep asking for input until valid\n",
        "            try:\n",
        "                # Ask the user how many of this fruit they want\n",
        "                quantity = int(input(f\"How many {fruit}s do you want? \"))\n",
        "\n",
        "                if quantity < 0:  # Ensure the quantity is non-negative\n",
        "                    print(\"Invalid input. Please enter a positive number.\")\n",
        "                    continue  # Retry the input\n",
        "\n",
        "                # Add the cost for this fruit to the total\n",
        "                total_cost += price * quantity\n",
        "                break  # Exit the loop once valid input is received\n",
        "            except ValueError:  # Handle invalid (non-integer) inputs\n",
        "                print(\"Invalid input. Please enter a valid number.\")\n",
        "\n",
        "    # Display the total cost, formatted to 2 decimal places\n",
        "    print(f\"Total cost: ${total_cost:.2f}\")\n",
        "\n",
        "# Call the function to execute it\n",
        "calculate_total_cost()\n"
      ],
      "metadata": {
        "colab": {
          "base_uri": "https://localhost:8080/"
        },
        "id": "TXvy5-vRfFf9",
        "outputId": "67dc8cec-e84b-4a8d-f31b-fb8725bd194a"
      },
      "execution_count": null,
      "outputs": [
        {
          "output_type": "stream",
          "name": "stdout",
          "text": [
            "How many apples do you want? 4\n",
            "How many bananas do you want? 12\n",
            "How many oranges do you want? 2\n",
            "How many grapes do you want? 4\n",
            "How many kiwis do you want? 5\n",
            "How many pineapples do you want? 1\n",
            "Total cost: $25.80\n"
          ]
        }
      ]
    },
    {
      "cell_type": "markdown",
      "source": [
        "# **03_powerful_passwords**"
      ],
      "metadata": {
        "id": "4SxbsBXcjtGm"
      }
    },
    {
      "cell_type": "code",
      "source": [
        "import hashlib  # Importing the hashlib library for password hashing\n",
        "\n",
        "# Function to hash a password using SHA-256\n",
        "def hash_password(password):\n",
        "    return hashlib.sha256(password.encode()).hexdigest()\n",
        "\n",
        "# A dictionary to store email and hashed passwords\n",
        "stored_logins = {\n",
        "    \"user@example.com\": hash_password(\"password123\"),  # Storing a hashed password for user@example.com\n",
        "    \"admin@example.com\": hash_password(\"adminpass\")   # Storing a hashed password for admin@example.com\n",
        "}\n",
        "\n",
        "# Function to verify the login credentials\n",
        "def login(email, password):\n",
        "    # Check if the provided email exists in the stored logins\n",
        "    if email in stored_logins:\n",
        "        # Compare the stored hashed password with the hashed version of the input password\n",
        "        return stored_logins[email] == hash_password(password)\n",
        "    return False  # Return False if email is not found\n",
        "\n",
        "# Main function to handle user input and perform login validation\n",
        "if __name__ == \"__main__\":\n",
        "    # Prompt the user to enter their email\n",
        "    email = input(\"Enter your email: \")\n",
        "    # Prompt the user to enter their password\n",
        "    password = input(\"Enter your password: \")\n",
        "\n",
        "    # Validate the entered credentials using the login function\n",
        "    if login(email, password):\n",
        "        print(\"Login successful!\")  # If login is successful, print success message\n",
        "    else:\n",
        "        print(\"Invalid email or password.\")  # If login fails, print an error message\n"
      ],
      "metadata": {
        "colab": {
          "base_uri": "https://localhost:8080/"
        },
        "id": "YlgIvNhtjvuQ",
        "outputId": "14b52aee-640b-437b-e399-3131fa37bb03"
      },
      "execution_count": null,
      "outputs": [
        {
          "output_type": "stream",
          "name": "stdout",
          "text": [
            "Enter your email: user@example.com\n",
            "Enter your password: password123\n",
            "Login successful!\n"
          ]
        }
      ]
    }
  ]
}