{
  "nbformat": 4,
  "nbformat_minor": 0,
  "metadata": {
    "colab": {
      "provenance": [],
      "authorship_tag": "ABX9TyPNAKaBqezwDEXYmIvtiGoS",
      "include_colab_link": true
    },
    "kernelspec": {
      "name": "python3",
      "display_name": "Python 3"
    },
    "language_info": {
      "name": "python"
    }
  },
  "cells": [
    {
      "cell_type": "markdown",
      "metadata": {
        "id": "view-in-github",
        "colab_type": "text"
      },
      "source": [
        "<a href=\"https://colab.research.google.com/github/Muniza-NAbeel/Project-4-Assignments/blob/main/mad_libs_game.ipynb\" target=\"_parent\"><img src=\"https://colab.research.google.com/assets/colab-badge.svg\" alt=\"Open In Colab\"/></a>"
      ]
    },
    {
      "cell_type": "markdown",
      "source": [
        "# **Mad Libs Game in Python**"
      ],
      "metadata": {
        "id": "YG946mso4XgC"
      }
    },
    {
      "cell_type": "code",
      "source": [
        "#user input\n",
        "name = input(\"Enter the girl name: \")\n",
        "programming_language = input(\"Enter a Programming language (e.g: python , typescript , html , next.js ): \")\n",
        "mentor = input(\"Enter the mentor name: \")\n",
        "location = input(\"Enter your location (e.g: GIAIC, PIAIC ):  \")\n",
        "\n",
        "#Story Created\n",
        "print(\"\\n Here is my little Story Based On Mad libs game!\")\n",
        "print(f\" Once upon a time, there was a girl named {name}.\")\n",
        "print(f\" {name} was very curious and always want to learn new things\")\n",
        "print(f\" One day, he decided to learn {programming_language} language at {location}!\")\n",
        "print(f\" Luckily {name} found a great mentor name as {mentor}, who was an expert in {programming_language}.\")\n",
        "print(\" And so, her journey Continues...!\")\n",
        "\n"
      ],
      "metadata": {
        "colab": {
          "base_uri": "https://localhost:8080/"
        },
        "id": "Xzh6f_La4hxq",
        "outputId": "a76d64f9-f7fa-42e9-f933-93bd17a91699"
      },
      "execution_count": null,
      "outputs": [
        {
          "output_type": "stream",
          "name": "stdout",
          "text": [
            "Enter the girl name: Muniza\n",
            "Enter a Programming language (e.g: python , typescript , html , next.js ): Python\n",
            "Enter the mentor name: Bilal Muhammad Khan\n",
            "Enter your location (e.g: GIAIC, PIAIC ):  GIAIC\n",
            "\n",
            " Here is my little Story Based On Mad libs game!\n",
            " Once upon a time, there was a girl named Muniza.\n",
            " Muniza was very curious and always want to learn new things\n",
            " One day, he decided to learn Python language at GIAIC!\n",
            " Luckily Muniza found a great mentor name as Bilal Muhammad Khan, who was an expert in Python.\n",
            " And so, her journey Continues...!\n"
          ]
        }
      ]
    }
  ]
}