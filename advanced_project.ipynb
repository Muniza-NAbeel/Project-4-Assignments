{
  "nbformat": 4,
  "nbformat_minor": 0,
  "metadata": {
    "colab": {
      "provenance": [],
      "authorship_tag": "ABX9TyPa0u7911Kr+Horz8HEPOMi",
      "include_colab_link": true
    },
    "kernelspec": {
      "name": "python3",
      "display_name": "Python 3"
    },
    "language_info": {
      "name": "python"
    }
  },
  "cells": [
    {
      "cell_type": "markdown",
      "metadata": {
        "id": "view-in-github",
        "colab_type": "text"
      },
      "source": [
        "<a href=\"https://colab.research.google.com/github/Muniza-NAbeel/Project-4-Assignments/blob/main/advanced_project.ipynb\" target=\"_parent\"><img src=\"https://colab.research.google.com/assets/colab-badge.svg\" alt=\"Open In Colab\"/></a>"
      ]
    },
    {
      "cell_type": "markdown",
      "source": [
        "# **03-Project QR code encoder/ decoder**"
      ],
      "metadata": {
        "id": "7dQKFd8KMvX7"
      }
    },
    {
      "cell_type": "code",
      "source": [
        "!pip install qrcode[pil]\n"
      ],
      "metadata": {
        "colab": {
          "base_uri": "https://localhost:8080/"
        },
        "id": "vpvzsQWdM3dF",
        "outputId": "688340fd-dfb3-4da6-ae4a-1ee31289f43f"
      },
      "execution_count": 1,
      "outputs": [
        {
          "output_type": "stream",
          "name": "stdout",
          "text": [
            "Collecting qrcode[pil]\n",
            "  Downloading qrcode-8.1-py3-none-any.whl.metadata (17 kB)\n",
            "Requirement already satisfied: pillow>=9.1.0 in /usr/local/lib/python3.11/dist-packages (from qrcode[pil]) (11.1.0)\n",
            "Downloading qrcode-8.1-py3-none-any.whl (45 kB)\n",
            "\u001b[?25l   \u001b[90m━━━━━━━━━━━━━━━━━━━━━━━━━━━━━━━━━━━━━━━━\u001b[0m \u001b[32m0.0/45.7 kB\u001b[0m \u001b[31m?\u001b[0m eta \u001b[36m-:--:--\u001b[0m\r\u001b[2K   \u001b[90m━━━━━━━━━━━━━━━━━━━━━━━━━━━━━━━━━━━━━━━━\u001b[0m \u001b[32m45.7/45.7 kB\u001b[0m \u001b[31m1.7 MB/s\u001b[0m eta \u001b[36m0:00:00\u001b[0m\n",
            "\u001b[?25hInstalling collected packages: qrcode\n",
            "Successfully installed qrcode-8.1\n"
          ]
        }
      ]
    },
    {
      "cell_type": "code",
      "source": [
        "import qrcode                  # QR code generate karne ke liye\n",
        "import cv2                     # OpenCV library QR code ko read/decode karne ke liye\n",
        "import numpy as np             # Image processing ke liye\n",
        "from PIL import Image          # QR code image display ke liye PIL (Pillow) use kar rahe hain\n",
        "from IPython.display import display  # Jupyter Notebook me image display karne ke liye\n",
        "\n",
        "# Function to generate a QR code from given data\n",
        "def generate_qr(data, filename=\"qrcode.png\"):\n",
        "    qr = qrcode.QRCode(\n",
        "        version=1,       # Version 1 ka matlab QR code ka size 21x21 hoga\n",
        "        box_size=10,     # Har box (pixel) ka size 10 pixels\n",
        "        border=5         # QR code ke around 5 box ka white border\n",
        "    )\n",
        "    qr.add_data(data)         # QR code ke andar jo data chahiye woh yahan add karte hain\n",
        "    qr.make(fit=True)         # Automatically QR code ko adjust kar deta hai according to data\n",
        "    img = qr.make_image(\n",
        "        fill_color=\"red\",   # QR code ke dots ka color red hoga\n",
        "        back_color=\"white\"    # Background white hoga\n",
        "    )\n",
        "    img.save(filename)        # Image ko specified filename ke saath save kar rahe hain\n",
        "    display(img)              # Jupyter notebook me image display karte hain\n",
        "    print(f\"✅ QR Code saved as {filename}\")  # Success message print karte hain\n",
        "\n",
        "# Function to decode QR code from an image\n",
        "def decode_qr(filename):\n",
        "    img = cv2.imread(filename)              # QR code image ko OpenCV se read karte hain\n",
        "    detector = cv2.QRCodeDetector()        # QR code detect karne ke liye detector create karte hain\n",
        "    data, _, _ = detector.detectAndDecode(img)  # QR code ko detect aur decode karte hain\n",
        "\n",
        "    if data:                               # Agar data decode ho jata hai to:\n",
        "        print(f\"✅ Decoded Data: {data}\")   # Decoded data print karte hain\n",
        "    else:                                  # Agar QR code detect nahi hota:\n",
        "        print(\"❌ No QR code found! Try using a white background.\")\n",
        "\n",
        "# Function call to generate QR code with data \"Successfully Generated\"\n",
        "generate_qr(\"Successfully Generated\", \"my_qr.png\")  # Encode\n",
        "\n",
        "# Function call to decode the previously saved QR code image\n",
        "decode_qr(\"my_qr.png\")  # Decode\n"
      ],
      "metadata": {
        "colab": {
          "base_uri": "https://localhost:8080/",
          "height": 402
        },
        "id": "st9hVltXNGf8",
        "outputId": "ff2ec906-d9ff-4860-fc4d-0a14cfb89c75"
      },
      "execution_count": 3,
      "outputs": [
        {
          "output_type": "display_data",
          "data": {
            "text/plain": [
              "<qrcode.image.pil.PilImage at 0x7bfc57b23590>"
            ],
            "image/png": "[encoded data removed]",
            "image/jpeg": "[encoded data removed]"
          },
          "metadata": {}
        },
        {
          "output_type": "stream",
          "name": "stdout",
          "text": [
            "✅ QR Code saved as my_qr.png\n",
            "✅ Decoded Data: Successfully Generated\n"
          ]
        }
      ]
    },
    {
      "cell_type": "markdown",
      "source": [
        "# **04-Project Tic-Tac-Toe**"
      ],
      "metadata": {
        "id": "Q1iyQIRHO6Qn"
      }
    },
    {
      "cell_type": "code",
      "source": [
        "# 3 values ka sum return karta hai (used for win condition check)\n",
        "def sum(a, b, c ):\n",
        "    return a + b + c\n",
        "\n",
        "# Board display karne ka function\n",
        "def printBoard(xState, zState):\n",
        "    # Har cell ke liye check karte hain X ne bhara ya O ne, agar nahi to index number show karte hain\n",
        "    zero = 'X' if xState[0] else ('O' if zState[0] else 0)\n",
        "    one = 'X' if xState[1] else ('O' if zState[1] else 1)\n",
        "    two = 'X' if xState[2] else ('O' if zState[2] else 2)\n",
        "    three = 'X' if xState[3] else ('O' if zState[3] else 3)\n",
        "    four = 'X' if xState[4] else ('O' if zState[4] else 4)\n",
        "    five = 'X' if xState[5] else ('O' if zState[5] else 5)\n",
        "    six = 'X' if xState[6] else ('O' if zState[6] else 6)\n",
        "    seven = 'X' if xState[7] else ('O' if zState[7] else 7)\n",
        "    eight = 'X' if xState[8] else ('O' if zState[8] else 8)\n",
        "\n",
        "    # Board ko 3x3 format me print karte hain\n",
        "    print(f\"{zero} | {one} | {two} \")\n",
        "    print(f\"--|---|---\")\n",
        "    print(f\"{three} | {four} | {five} \")\n",
        "    print(f\"--|---|---\")\n",
        "    print(f\"{six} | {seven} | {eight} \")\n",
        "\n",
        "# Check karta hai koi jeeta to nahi\n",
        "def checkWin(xState, zState):\n",
        "    # Sab possible winning combinations\n",
        "    wins = [\n",
        "        [0, 1, 2], [3, 4, 5], [6, 7, 8],   # Rows\n",
        "        [0, 3, 6], [1, 4, 7], [2, 5, 8],   # Columns\n",
        "        [0, 4, 8], [2, 4, 6]               # Diagonals\n",
        "    ]\n",
        "    # Har combination ke liye check karo agar X ya O ne uss line ko pura bhar diya ho\n",
        "    for win in wins:\n",
        "        if(sum(xState[win[0]], xState[win[1]], xState[win[2]]) == 3):\n",
        "            print(\"X Won the match\")\n",
        "            return 1\n",
        "        if(sum(zState[win[0]], zState[win[1]], zState[win[2]]) == 3):\n",
        "            print(\"O Won the match\")\n",
        "            return 0\n",
        "    return -1  # Agar koi nahi jeeta\n",
        "\n",
        "# Main game logic\n",
        "if __name__ == \"__main__\":\n",
        "    # X aur O ke liye board ka initial state (sab jagah 0 = empty)\n",
        "    xState = [0, 0, 0, 0, 0, 0, 0, 0, 0]\n",
        "    zState = [0, 0, 0, 0, 0, 0, 0, 0, 0]\n",
        "    turn = 1  # 1 = X's turn, 0 = O's turn\n",
        "\n",
        "    print(\"Welcome to Tic Tac Toe\")\n",
        "\n",
        "    # Infinite loop until koi jeet jaye\n",
        "    while(True):\n",
        "        printBoard(xState, zState)  # Board print karo\n",
        "\n",
        "        if(turn == 1):\n",
        "            print(\"X's Chance\")\n",
        "            value = int(input(\"Please enter a value: \"))  # X ka input lo\n",
        "            xState[value] = 1                             # X ka move board pe mark karo\n",
        "        else:\n",
        "            print(\"O's Chance\")\n",
        "            value = int(input(\"Please enter a value: \"))  # O ka input lo\n",
        "            zState[value] = 1                             # O ka move board pe mark karo\n",
        "\n",
        "        # Har move ke baad check karo koi jeeta ya nahi\n",
        "        cwin = checkWin(xState, zState)\n",
        "        if(cwin != -1):\n",
        "            print(\"Match over\")  # Agar koi jeet gaya to match end\n",
        "            break\n",
        "\n",
        "        turn = 1 - turn  # Turn change karo (X <-> O)\n"
      ],
      "metadata": {
        "colab": {
          "base_uri": "https://localhost:8080/"
        },
        "id": "1FHm-qjeO96U",
        "outputId": "5d49ead5-69e9-4cdf-ad3f-5b0f324c9bf6"
      },
      "execution_count": 4,
      "outputs": [
        {
          "output_type": "stream",
          "name": "stdout",
          "text": [
            "Welcome to Tic Tac Toe\n",
            "0 | 1 | 2 \n",
            "--|---|---\n",
            "3 | 4 | 5 \n",
            "--|---|---\n",
            "6 | 7 | 8 \n",
            "X's Chance\n",
            "Please enter a value: 4\n",
            "0 | 1 | 2 \n",
            "--|---|---\n",
            "3 | X | 5 \n",
            "--|---|---\n",
            "6 | 7 | 8 \n",
            "O's Chance\n",
            "Please enter a value: 0\n",
            "O | 1 | 2 \n",
            "--|---|---\n",
            "3 | X | 5 \n",
            "--|---|---\n",
            "6 | 7 | 8 \n",
            "X's Chance\n",
            "Please enter a value: 5\n",
            "O | 1 | 2 \n",
            "--|---|---\n",
            "3 | X | X \n",
            "--|---|---\n",
            "6 | 7 | 8 \n",
            "O's Chance\n",
            "Please enter a value: 1\n",
            "O | O | 2 \n",
            "--|---|---\n",
            "3 | X | X \n",
            "--|---|---\n",
            "6 | 7 | 8 \n",
            "X's Chance\n",
            "Please enter a value: 3\n",
            "X Won the match\n",
            "Match over\n"
          ]
        }
      ]
    },
    {
      "cell_type": "markdown",
      "source": [
        "# **05-Project Binary Search**"
      ],
      "metadata": {
        "id": "9veGcZuURPmA"
      }
    },
    {
      "cell_type": "code",
      "source": [
        "def binary_search(a_list, item):\n",
        "    # a_list ek sorted list hai\n",
        "    # item woh number hai jo search karna hai\n",
        "\n",
        "    first = 0                         # List ka starting index\n",
        "    last = len(a_list) - 1           # List ka last index\n",
        "\n",
        "    # Jab tak search range valid hai\n",
        "    while first <= last:\n",
        "        mid = int((first + last) / 2)    # Middle index calculate karte hain\n",
        "\n",
        "        # Agar mid element hi item hai to success\n",
        "        if a_list[mid] == item:\n",
        "            print(f\"The {item} is found at {mid}\")  # Item mil gaya, index print karo\n",
        "            break\n",
        "\n",
        "        # Agar mid element item se bada hai to left half me search karo\n",
        "        elif a_list[mid] > item:\n",
        "            last = mid - 1\n",
        "\n",
        "        # Agar mid element item se chhota hai to right half me search karo\n",
        "        elif a_list[mid] < item:\n",
        "            first = mid + 1\n",
        "\n",
        "    # Jab loop khatam ho jaye aur item na mile\n",
        "    else:\n",
        "        print(f\"The {item} is not found\")  # Item list me nahi mila\n",
        "\n",
        "# Program ka starting point\n",
        "if __name__ == \"__main__\":\n",
        "    # Example call: sorted list me 4 ko search karo\n",
        "    binary_search([2, 3, 7, 9, 50, 57, 79, 550], 4)\n"
      ],
      "metadata": {
        "colab": {
          "base_uri": "https://localhost:8080/"
        },
        "id": "zivE42EZR84L",
        "outputId": "797a835e-60de-4bdd-cd91-835e3a0806b5"
      },
      "execution_count": 7,
      "outputs": [
        {
          "output_type": "stream",
          "name": "stdout",
          "text": [
            "The 4 is not found\n"
          ]
        }
      ]
    },
    {
      "cell_type": "markdown",
      "source": [
        "# **07-Project Weather-dedection**"
      ],
      "metadata": {
        "id": "1tO0-C-4XvJ7"
      }
    },
    {
      "cell_type": "code",
      "source": [
        "import requests\n",
        "import json\n",
        "\n",
        "def get_weather(city):\n",
        "    api_key = '9c3bef2646e2c130501388d9dc26dfb8'\n",
        "    base_url = 'http://api.openweathermap.org/data/2.5/weather'\n",
        "\n",
        "    # Prepare parameters for the API call\n",
        "    params = {\n",
        "        'q': city,\n",
        "        'appid': api_key,\n",
        "        'units': 'metric'  # For temperature in Celsius\n",
        "    }\n",
        "\n",
        "    # Make the API call\n",
        "    response = requests.get(base_url, params=params)\n",
        "\n",
        "    # Parse the response\n",
        "    weather_data = response.json()\n",
        "\n",
        "    # Check if the response contains an error (404 means city not found)\n",
        "    if weather_data.get('cod') != 200:\n",
        "        print(f\"❌ Error: {weather_data.get('message', 'City not found!')}\")\n",
        "        return\n",
        "\n",
        "    # Now safely access the weather data\n",
        "    try:\n",
        "        temp = weather_data['main']['temp']\n",
        "        humidity = weather_data['main']['humidity']\n",
        "        description = weather_data['weather'][0]['description']\n",
        "\n",
        "        print(f'Weather in {city}: ')\n",
        "        print(f'Temperature: {temp} °C')\n",
        "        print(f'Humidity: {humidity}%')\n",
        "        print(f'Description: {description}')\n",
        "    except KeyError:\n",
        "        print(\"❌ KeyError: Response data structure unexpected.\")\n",
        "\n",
        "# Get weather for Karachi\n",
        "city = 'Karachi'\n",
        "get_weather(city)\n"
      ],
      "metadata": {
        "colab": {
          "base_uri": "https://localhost:8080/"
        },
        "id": "uzvd060EYA2_",
        "outputId": "1e8ff8fd-6eb3-4ca6-955e-08ca0f96262f"
      },
      "execution_count": 12,
      "outputs": [
        {
          "output_type": "stream",
          "name": "stdout",
          "text": [
            "Weather in Karachi: \n",
            "Temperature: 35.9 °C\n",
            "Humidity: 28%\n",
            "Description: clear sky\n"
          ]
        }
      ]
    }
  ]
}