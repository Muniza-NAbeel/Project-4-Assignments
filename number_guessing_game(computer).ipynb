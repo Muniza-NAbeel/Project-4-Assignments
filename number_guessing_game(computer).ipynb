{
  "nbformat": 4,
  "nbformat_minor": 0,
  "metadata": {
    "colab": {
      "provenance": [],
      "authorship_tag": "ABX9TyNQKLaem85Q53H6ChfKwWj9",
      "include_colab_link": true
    },
    "kernelspec": {
      "name": "python3",
      "display_name": "Python 3"
    },
    "language_info": {
      "name": "python"
    }
  },
  "cells": [
    {
      "cell_type": "markdown",
      "metadata": {
        "id": "view-in-github",
        "colab_type": "text"
      },
      "source": [
        "<a href=\"https://colab.research.google.com/github/Muniza-NAbeel/Project-4-Assignments/blob/main/number_guessing_game(computer).ipynb\" target=\"_parent\"><img src=\"https://colab.research.google.com/assets/colab-badge.svg\" alt=\"Open In Colab\"/></a>"
      ]
    },
    {
      "cell_type": "code",
      "execution_count": null,
      "metadata": {
        "colab": {
          "base_uri": "https://localhost:8080/"
        },
        "id": "ELKSy0jHcRNv",
        "outputId": "b2e354a6-d09e-4eb5-af29-b701482197b3"
      },
      "outputs": [
        {
          "output_type": "stream",
          "name": "stdout",
          "text": [
            "Welcome to the number guessing game!\n",
            "I am thinking of a number between 1 and 20.\n",
            "You have 7 attempts to guess the number.\n",
            "\n",
            "You have 7 attempts left.\n",
            "Take a guess of another number: 10\n",
            "Too high number. Try again.\n",
            "\n",
            "You have 6 attempts left.\n",
            "Take a guess of another number: 5\n",
            "Too high number. Try again.\n",
            "\n",
            "You have 5 attempts left.\n",
            "Take a guess of another number: 3\n",
            "Too high number. Try again.\n",
            "\n",
            "You have 4 attempts left.\n",
            "Take a guess of another number: 2\n",
            "Too high number. Try again.\n",
            "\n",
            "You have 3 attempts left.\n",
            "Take a guess of another number: 1\n",
            "Congratulations! You guessed the number in 5 attempts.\n"
          ]
        }
      ],
      "source": [
        "import random\n",
        "\n",
        "def guess_the_number():\n",
        "    \"\"\"Project 2: Guess the Number Guessing Game By Computer.\"\"\"\n",
        "    number = random.randint(1, 20)         # Generate a random number between 1 and 100\n",
        "    attempts_left = 7                       # Number of attempts left\n",
        "\n",
        "    print(\"Welcome to the number guessing game!\")\n",
        "    print(\"I am thinking of a number between 1 and 20.\")\n",
        "    print(\"You have 7 attempts to guess the number.\")\n",
        "\n",
        "    # Game loop\n",
        "    while attempts_left > 0:\n",
        "        print(f\"\\nYou have {attempts_left} attempts left.\")\n",
        "        try:\n",
        "            guess = int(input(\"Take a guess of another number: \"))\n",
        "        except ValueError:\n",
        "            print(\"Please enter a valid number.\")\n",
        "            continue\n",
        "\n",
        "        # Guess the secret number\n",
        "        if guess < number:\n",
        "            print(f\"Too low number. Try again.\")\n",
        "        elif guess > number:\n",
        "            print(f\"Too high number. Try again.\")\n",
        "        else:\n",
        "            print(f\"Congratulations! You guessed the number in {7 - attempts_left + 1} attempts.\")\n",
        "            return\n",
        "\n",
        "        attempts_left -= 1\n",
        "\n",
        "    # If attempts left is 0, print the statement\n",
        "    print(f\"Sorry, you didn't guess the number. The number was {number}.\")\n",
        "\n",
        "guess_the_number()\n"
      ]
    }
  ]
}