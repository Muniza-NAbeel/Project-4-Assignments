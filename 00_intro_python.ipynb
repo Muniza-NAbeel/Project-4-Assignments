{
  "nbformat": 4,
  "nbformat_minor": 0,
  "metadata": {
    "colab": {
      "provenance": [],
      "authorship_tag": "ABX9TyPpW5HpVa1Waf8dSY5Mc1ws",
      "include_colab_link": true
    },
    "kernelspec": {
      "name": "python3",
      "display_name": "Python 3"
    },
    "language_info": {
      "name": "python"
    }
  },
  "cells": [
    {
      "cell_type": "markdown",
      "metadata": {
        "id": "view-in-github",
        "colab_type": "text"
      },
      "source": [
        "<a href=\"https://colab.research.google.com/github/Muniza-NAbeel/Project-4-Assignments/blob/main/00_intro_python.ipynb\" target=\"_parent\"><img src=\"https://colab.research.google.com/assets/colab-badge.svg\" alt=\"Open In Colab\"/></a>"
      ]
    },
    {
      "cell_type": "markdown",
      "source": [
        "**01_add_two_numbers.md**"
      ],
      "metadata": {
        "id": "4-ajn5WgNXHR"
      }
    },
    {
      "cell_type": "code",
      "execution_count": 2,
      "metadata": {
        "colab": {
          "base_uri": "https://localhost:8080/"
        },
        "id": "-JmNVXKTMoSC",
        "outputId": "6fbfcd5c-1414-48ea-c656-b8c1b8de1ed5"
      },
      "outputs": [
        {
          "output_type": "stream",
          "name": "stdout",
          "text": [
            "This program adds two numbers.\n",
            "Enter first number: 20\n",
            "Enter second number: 19\n",
            "The total is Sum of 20 and 19 is 39.\n"
          ]
        }
      ],
      "source": [
        "def main():\n",
        "    print(\"This program adds two numbers.\")\n",
        "\n",
        "    # Get the first number from the user.\n",
        "    num1 : str = input(\"Enter first number: \")\n",
        "\n",
        "    # Convert the input to an integer.\n",
        "    num1 : int = int(num1)\n",
        "\n",
        "    # Get the second number from the user.\n",
        "    num2  : str = input(\"Enter second number: \")\n",
        "\n",
        "    # Convert the input to an integer.\n",
        "    num2 : int = int(num2)\n",
        "\n",
        "    # Calculate the sum of the two numbers.\n",
        "    total : int = num1 + num2\n",
        "\n",
        "    # Display the total sum.\n",
        "    #print(\"The total is \" + str(total) + \".\")\n",
        "\n",
        "    print(f\"The total is Sum of {num1} and {num2} is {total}.\")\n",
        "\n",
        "# This provided line is required at the end of Python file to call the main() function.\n",
        "\n",
        "if __name__ == '__main__':\n",
        "    main()"
      ]
    },
    {
      "cell_type": "markdown",
      "source": [
        "# **02_agreement_bot**"
      ],
      "metadata": {
        "id": "ntjerfTbOmFg"
      }
    },
    {
      "cell_type": "code",
      "source": [
        "def main():\n",
        "    favorite_animal = input(\"What's Your favorite animal?\")\n",
        "    print(f\"My favorite animal is also {favorite_animal} . \")\n",
        "\n",
        "if __name__ == \"__main__\":\n",
        "    main()"
      ],
      "metadata": {
        "colab": {
          "base_uri": "https://localhost:8080/"
        },
        "id": "zujkAr14Oxj9",
        "outputId": "39491c6e-2cc2-4634-ff18-fabd3f26667a"
      },
      "execution_count": 3,
      "outputs": [
        {
          "output_type": "stream",
          "name": "stdout",
          "text": [
            "What's Your favorite animal?Kitten\n",
            "My favorite animal is also Kitten . \n"
          ]
        }
      ]
    },
    {
      "cell_type": "markdown",
      "source": [
        "# **03_fahrenheit_to_celsius**"
      ],
      "metadata": {
        "id": "nKotTDrVPCBV"
      }
    },
    {
      "cell_type": "markdown",
      "source": [],
      "metadata": {
        "id": "VutRL5GcPRfm"
      }
    },
    {
      "cell_type": "code",
      "source": [
        "def main():\n",
        "    print(\"This program converts Fahrenheit to Celsius.\")\n",
        "    # Prompt user for temperature in Fahrenheit\n",
        "    fahrenheit = float(input(\"Enter temperature in Fahrenheit: \"))\n",
        "\n",
        "    # Convert Fahrenheit to Celsius\n",
        "    celsius = (fahrenheit - 32) * 5.0 / 9.0\n",
        "\n",
        "    # Output the temperature in Celsius\n",
        "    print(f\"Temperature: {fahrenheit}F = {celsius}C\")\n",
        "\n",
        "if __name__ == \"__main__\":\n",
        "    main()"
      ],
      "metadata": {
        "colab": {
          "base_uri": "https://localhost:8080/"
        },
        "id": "Z2ogAzLgPb_1",
        "outputId": "9053da21-5b94-4ed5-ea04-c63e5b5cd8cd"
      },
      "execution_count": 5,
      "outputs": [
        {
          "output_type": "stream",
          "name": "stdout",
          "text": [
            "This program converts Fahrenheit to Celsius.\n",
            "Enter temperature in Fahrenheit: 40\n",
            "Temperature: 40.0F = 4.444444444444445C\n"
          ]
        }
      ]
    },
    {
      "cell_type": "markdown",
      "source": [
        "# **04_how_old_are_they**"
      ],
      "metadata": {
        "id": "ByIbey2xQCmB"
      }
    },
    {
      "cell_type": "code",
      "source": [
        "def main():\n",
        "    # Anton is 21 years old.\n",
        "    anton = 21\n",
        "\n",
        "    # Beth is 6 years older than Anton.\n",
        "    beth = anton + 6\n",
        "\n",
        "    # Chen is 20 years older than Beth.\n",
        "    chen = beth + 20\n",
        "\n",
        "    # Drew is as old as Chen's age plus Anton's age.\n",
        "    drew = chen + anton\n",
        "\n",
        "    # Ethan is the same age as Chen.\n",
        "    ethen = chen\n",
        "\n",
        "    print(f\"Anton is {anton} year's old.\")\n",
        "    print(f\"Beth is {beth} year's old.\")\n",
        "    print(f\"Chen is {chen} year's old.\")\n",
        "    print(f\"Drew is {drew} year's old.\")\n",
        "    print(f\"Ethen is {ethen} year's old.\")\n",
        "\n",
        "if __name__ == \"__main__\":\n",
        "    main()"
      ],
      "metadata": {
        "colab": {
          "base_uri": "https://localhost:8080/"
        },
        "id": "vyn4S_xcQQNO",
        "outputId": "4b6796a8-4598-40d0-a3f4-c36b57b1d233"
      },
      "execution_count": 10,
      "outputs": [
        {
          "output_type": "stream",
          "name": "stdout",
          "text": [
            "Anton is 21 year's old.\n",
            "Beth is 27 year's old.\n",
            "Chen is 47 year's old.\n",
            "Drew is 68 year's old.\n",
            "Ethen is 47 year's old.\n"
          ]
        }
      ]
    },
    {
      "cell_type": "markdown",
      "source": [
        "# **05_triangle_perimeter**"
      ],
      "metadata": {
        "id": "M3MaxOH_Q4KB"
      }
    },
    {
      "cell_type": "code",
      "source": [
        "def main():\n",
        "    # Prompt the user to enter the lengths of each side of a triangle\n",
        "    print(\"This code is about perimeter of triangle.\")\n",
        "    side1 = float(input(\"What is the length of side 1 ?\"))\n",
        "    side2 = float(input(\"What is the length of side 2 ?\"))\n",
        "    side3 = float(input(\"What is the length of side 3 ?\"))\n",
        "\n",
        "    # Print out the perimeter (sum of the sides) of the triangle, make sure to cast it to a str when concatenating!\n",
        "    # print(\"The perimeter of the triangle is \" + str(side1 + side2 + side3))\n",
        "\n",
        "    # Calculate and print the perimeter of the triangle\n",
        "    perimeter = side1 + side2 + side3\n",
        "    print(\"The perimeter of the triangle is\", perimeter)\n",
        "\n",
        "if __name__ == \"__main__\":\n",
        "    main()"
      ],
      "metadata": {
        "colab": {
          "base_uri": "https://localhost:8080/"
        },
        "id": "hBGnEToUQ71z",
        "outputId": "338020aa-4627-4223-f3d5-163c79052119"
      },
      "execution_count": 11,
      "outputs": [
        {
          "output_type": "stream",
          "name": "stdout",
          "text": [
            "This code is about perimeter of triangle.\n",
            "What is the length of side 1 ?5\n",
            "What is the length of side 2 ?7\n",
            "What is the length of side 3 ?4\n",
            "The perimeter of the triangle is 16.0\n"
          ]
        }
      ]
    },
    {
      "cell_type": "markdown",
      "source": [
        "# **06_square_number**"
      ],
      "metadata": {
        "id": "jwMWcm5vRPmA"
      }
    },
    {
      "cell_type": "code",
      "source": [
        "def square():\n",
        "  print(\"This code is about square of given number\")\n",
        "  num1:int = int(input(\"Enter any number and i will give u a square value. \"))\n",
        "  print(f'The square of {num1} is {num1 ** 2}')\n",
        "\n",
        "if __name__ == \"__main__\":\n",
        "  square()\n",
        ""
      ],
      "metadata": {
        "colab": {
          "base_uri": "https://localhost:8080/"
        },
        "id": "GV6aQ2NbRSsg",
        "outputId": "36aadc6b-dfe4-401c-ca04-a9c3b2393a20"
      },
      "execution_count": 14,
      "outputs": [
        {
          "output_type": "stream",
          "name": "stdout",
          "text": [
            "This code is about square of given number\n",
            "Enter any number and i will give u a square value. 6\n",
            "The square of 6 is 36\n"
          ]
        }
      ]
    },
    {
      "cell_type": "code",
      "source": [],
      "metadata": {
        "id": "y0Ne7qcNPJ4z"
      },
      "execution_count": null,
      "outputs": []
    }
  ]
}