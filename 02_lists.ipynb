{
  "nbformat": 4,
  "nbformat_minor": 0,
  "metadata": {
    "colab": {
      "provenance": [],
      "authorship_tag": "ABX9TyNQc9+4VlkkthBqKiGYjpvv",
      "include_colab_link": true
    },
    "kernelspec": {
      "name": "python3",
      "display_name": "Python 3"
    },
    "language_info": {
      "name": "python"
    }
  },
  "cells": [
    {
      "cell_type": "markdown",
      "metadata": {
        "id": "view-in-github",
        "colab_type": "text"
      },
      "source": [
        "<a href=\"https://colab.research.google.com/github/Muniza-NAbeel/Project-4-Assignments/blob/main/02_lists.ipynb\" target=\"_parent\"><img src=\"https://colab.research.google.com/assets/colab-badge.svg\" alt=\"Open In Colab\"/></a>"
      ]
    },
    {
      "cell_type": "markdown",
      "source": [
        "## **01_add_many_number**"
      ],
      "metadata": {
        "id": "fD38Wmn5bS3E"
      }
    },
    {
      "cell_type": "code",
      "source": [
        "def add_numbers(numbers)-> int:\n",
        "    total_so_far : int = 0\n",
        "    for number in numbers:\n",
        "        total_so_far += number\n",
        "\n",
        "    return total_so_far\n",
        "\n",
        "def main():\n",
        "    numbers : list[int] = [1, 2, 3, 4, 5]   # Make a list of Numbers\n",
        "    sum_of_numbers : int = add_numbers(numbers)\n",
        "    print(sum_of_numbers)\n",
        "\n",
        "if __name__ == \"__main__\":\n",
        "    main()"
      ],
      "metadata": {
        "colab": {
          "base_uri": "https://localhost:8080/"
        },
        "id": "o3wwWB3rbVz4",
        "outputId": "c3e55a89-27ee-4403-e57b-eb70100dfe56"
      },
      "execution_count": 1,
      "outputs": [
        {
          "output_type": "stream",
          "name": "stdout",
          "text": [
            "15\n"
          ]
        }
      ]
    },
    {
      "cell_type": "markdown",
      "source": [
        "# **02_double_list**"
      ],
      "metadata": {
        "id": "5Wp7Qzmmbsk5"
      }
    },
    {
      "cell_type": "code",
      "source": [
        "def main():\n",
        "    numbers : list[int] = [1, 2, 3, 4, 5]  # create a list of numbers\n",
        "\n",
        "    for i in range(len(numbers)):\n",
        "        elem_at_index = numbers[i]\n",
        "        numbers[i] = elem_at_index * 2\n",
        "\n",
        "    print(numbers)\n",
        "\n",
        "if __name__ == \"__main__\":\n",
        "    main()\n",
        ""
      ],
      "metadata": {
        "colab": {
          "base_uri": "https://localhost:8080/"
        },
        "id": "hBo9U6Pgbyjq",
        "outputId": "8c39b77c-f04a-4953-9e59-530518a8fe12"
      },
      "execution_count": 2,
      "outputs": [
        {
          "output_type": "stream",
          "name": "stdout",
          "text": [
            "[2, 4, 6, 8, 10]\n"
          ]
        }
      ]
    },
    {
      "cell_type": "markdown",
      "source": [
        "# **04_flowing_with_data_structures**"
      ],
      "metadata": {
        "id": "miZxW3yTb5yZ"
      }
    },
    {
      "cell_type": "code",
      "source": [
        "def add_copies(my_list,data):\n",
        "  for i in range(3):\n",
        "    my_list.append(data)\n",
        "\n",
        "def main():\n",
        "  message = input(\"Enter a message to copy: \")\n",
        "  my_list = []\n",
        "  print(\"List before:\",my_list)\n",
        "  add_copies(my_list,message)\n",
        "  print(\"List after:\",my_list)\n",
        "\n",
        "if __name__ == \"__main__\":\n",
        "  main()"
      ],
      "metadata": {
        "colab": {
          "base_uri": "https://localhost:8080/"
        },
        "id": "eLQOYpQ0b78I",
        "outputId": "864b538f-e472-470b-b238-6edb25fb0bb5"
      },
      "execution_count": 3,
      "outputs": [
        {
          "output_type": "stream",
          "name": "stdout",
          "text": [
            "Enter a message to copy: Hello World\n",
            "List before: []\n",
            "List after: ['Hello World', 'Hello World', 'Hello World']\n"
          ]
        }
      ]
    },
    {
      "cell_type": "markdown",
      "source": [
        "# **05_get_first_element**"
      ],
      "metadata": {
        "id": "8uOy6iZAcLvC"
      }
    },
    {
      "cell_type": "code",
      "source": [
        "def get__first_element(lst):\n",
        "  print(lst[0])\n",
        "\n",
        "def get_lst():\n",
        "  lst = []\n",
        "  element:str = input(\"Enter an element to add to the list: \")\n",
        "  while element != \"\":\n",
        "    lst.append(element)\n",
        "    return lst\n",
        "\n",
        "def main():\n",
        "  lst = get_lst()\n",
        "  get__first_element(lst)\n",
        "\n",
        "if __name__ == \"__main__\":\n",
        "  main()"
      ],
      "metadata": {
        "colab": {
          "base_uri": "https://localhost:8080/"
        },
        "id": "0MRxnI2ccQqq",
        "outputId": "d2b623eb-80a5-46de-9e00-399e7e6af55e"
      },
      "execution_count": 4,
      "outputs": [
        {
          "output_type": "stream",
          "name": "stdout",
          "text": [
            "Enter an element to add to the list: Muniza\n",
            "Muniza\n"
          ]
        }
      ]
    },
    {
      "cell_type": "markdown",
      "source": [
        "# **06_get_last_element**"
      ],
      "metadata": {
        "id": "nL0f0HazcfBu"
      }
    },
    {
      "cell_type": "code",
      "source": [
        "print(\"06_get_last_element\")\n",
        "\n",
        "def get_last_element(lst):\n",
        "  print(lst[-1])\n",
        "\n",
        "def main():\n",
        "  lst = [1,2,3,4,5]\n",
        "  get_last_element(lst)\n",
        "\n",
        "if __name__ == \"__main__\":\n",
        "  main()"
      ],
      "metadata": {
        "colab": {
          "base_uri": "https://localhost:8080/"
        },
        "id": "BwqmUKtKchYM",
        "outputId": "ea0c87c5-019c-4622-8ec9-62aad6bae32f"
      },
      "execution_count": 5,
      "outputs": [
        {
          "output_type": "stream",
          "name": "stdout",
          "text": [
            "06_get_last_element\n",
            "5\n"
          ]
        }
      ]
    },
    {
      "cell_type": "markdown",
      "source": [
        "# **07_get_list**"
      ],
      "metadata": {
        "id": "Y9KmSyPzcnho"
      }
    },
    {
      "cell_type": "code",
      "source": [
        "def main():\n",
        "  lst = []\n",
        "  val = input(\"Enter a value to add to the list: \")\n",
        "  while val:\n",
        "    lst.append(val)\n",
        "    val = input(\"Enter a value to add to the list: \")\n",
        "  print(\"Here is the list: \", lst)\n",
        "\n",
        "if __name__ == \"__main__\":\n",
        "  main()"
      ],
      "metadata": {
        "colab": {
          "base_uri": "https://localhost:8080/"
        },
        "id": "NA8XvWNWcp5x",
        "outputId": "30e25e01-d299-4ef7-bc4f-8bb149e9a7b2"
      },
      "execution_count": 6,
      "outputs": [
        {
          "output_type": "stream",
          "name": "stdout",
          "text": [
            "Enter a value to add to the list: Apple\n",
            "Enter a value to add to the list: Mango\n",
            "Enter a value to add to the list: Banana\n",
            "Enter a value to add to the list: \n",
            "Here is the list:  ['Apple', 'Mango', 'Banana']\n"
          ]
        }
      ]
    },
    {
      "cell_type": "markdown",
      "source": [
        "# **8_shorten**"
      ],
      "metadata": {
        "id": "Bhxb1KnKc3IF"
      }
    },
    {
      "cell_type": "code",
      "source": [
        "MAX_LENGTH:int = 3\n",
        "def shorten(lst):\n",
        "  while len(lst) > MAX_LENGTH:\n",
        "    last_element = lst.pop()\n",
        "    print(last_element)\n",
        "\n",
        "def get_lst():\n",
        "  lst = []\n",
        "  element = input(\"Enter an element to add to the list: \")\n",
        "  while element != \"\":\n",
        "    lst.append(element)\n",
        "    element = input(\"Enter an element to add to the list: \")\n",
        "  return lst\n",
        "\n",
        "def main():\n",
        "  lst = get_lst()\n",
        "  shorten(lst)\n",
        "\n",
        "if __name__ == \"__main__\":\n",
        "  main()"
      ],
      "metadata": {
        "colab": {
          "base_uri": "https://localhost:8080/"
        },
        "id": "QAVq4wJrc-K9",
        "outputId": "17a6cdcc-80f5-44f1-8898-7d94a8e42b3a"
      },
      "execution_count": 7,
      "outputs": [
        {
          "output_type": "stream",
          "name": "stdout",
          "text": [
            "Enter an element to add to the list: Apple\n",
            "Enter an element to add to the list: Mango\n",
            "Enter an element to add to the list: Peach\n",
            "Enter an element to add to the list: Kiwi\n",
            "Enter an element to add to the list: \n",
            "Kiwi\n"
          ]
        }
      ]
    }
  ]
}