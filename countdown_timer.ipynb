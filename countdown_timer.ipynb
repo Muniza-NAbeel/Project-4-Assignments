{
  "nbformat": 4,
  "nbformat_minor": 0,
  "metadata": {
    "colab": {
      "provenance": [],
      "authorship_tag": "ABX9TyPZeI/LnVPppN1z0sGQyqqD",
      "include_colab_link": true
    },
    "kernelspec": {
      "name": "python3",
      "display_name": "Python 3"
    },
    "language_info": {
      "name": "python"
    }
  },
  "cells": [
    {
      "cell_type": "markdown",
      "metadata": {
        "id": "view-in-github",
        "colab_type": "text"
      },
      "source": [
        "<a href=\"https://colab.research.google.com/github/Muniza-NAbeel/Project-4-Assignments/blob/main/countdown_timer.ipynb\" target=\"_parent\"><img src=\"https://colab.research.google.com/assets/colab-badge.svg\" alt=\"Open In Colab\"/></a>"
      ]
    },
    {
      "cell_type": "code",
      "execution_count": null,
      "metadata": {
        "colab": {
          "base_uri": "https://localhost:8080/"
        },
        "id": "-298hc1drtX5",
        "outputId": "658c2399-dac0-4f15-de38-4a8f15f1c160"
      },
      "outputs": [
        {
          "output_type": "stream",
          "name": "stdout",
          "text": [
            "00:00\n",
            "Time's Up!\n"
          ]
        }
      ],
      "source": [
        "#Project 5 : Countdown Timer\n",
        "\n",
        "import time\n",
        "from IPython.display import clear_output  # Used to clear the output in Colab\n",
        "\n",
        "def countdown_timer(seconds):\n",
        "    while seconds > 0:\n",
        "        mins, secs = divmod(seconds, 60)  # Calculate minutes and seconds\n",
        "        time_format = '{:02d}:{:02d}'.format(mins, secs)  # MM:SS format\n",
        "        clear_output(wait=True)  # Clear the output in Colab\n",
        "        print(f\"Time Left: {time_format}\")  # Display the timer\n",
        "        time.sleep(1)  # Delay for 1 second\n",
        "        seconds -= 1  # Decrement seconds\n",
        "    clear_output(wait=True)  # Clear the output before showing the final message\n",
        "    print(\"00:00\\nTime's Up!\")\n",
        "\n",
        "# User input for timer\n",
        "total_seconds = int(input(\"Enter the total time in seconds: \"))\n",
        "countdown_timer(total_seconds)\n"
      ]
    }
  ]
}