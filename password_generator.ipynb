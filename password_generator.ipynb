{
  "nbformat": 4,
  "nbformat_minor": 0,
  "metadata": {
    "colab": {
      "provenance": [],
      "authorship_tag": "ABX9TyPxLHyrabqfC2qSsPqTm4Zc",
      "include_colab_link": true
    },
    "kernelspec": {
      "name": "python3",
      "display_name": "Python 3"
    },
    "language_info": {
      "name": "python"
    }
  },
  "cells": [
    {
      "cell_type": "markdown",
      "metadata": {
        "id": "view-in-github",
        "colab_type": "text"
      },
      "source": [
        "<a href=\"https://colab.research.google.com/github/Muniza-NAbeel/Project-4-Assignments/blob/main/password_generator.ipynb\" target=\"_parent\"><img src=\"https://colab.research.google.com/assets/colab-badge.svg\" alt=\"Open In Colab\"/></a>"
      ]
    },
    {
      "cell_type": "code",
      "execution_count": 1,
      "metadata": {
        "colab": {
          "base_uri": "https://localhost:8080/"
        },
        "id": "iIfQ69nh1tM3",
        "outputId": "6d80de4d-ef6c-4059-fe8f-2bdb40c2deea"
      },
      "outputs": [
        {
          "output_type": "stream",
          "name": "stdout",
          "text": [
            " Enter the desired number of passwords:  5\n",
            " Enter the desired password length: 6\n",
            "\n",
            "Generated Passwords:\n",
            "/!rqET\n",
            "LO;5_4\n",
            "w=-DwS\n",
            "S+Epuv\n",
            "vy_8i_\n"
          ]
        }
      ],
      "source": [
        "import random\n",
        "import string\n",
        "\n",
        "def generate_password(length=12):\n",
        "    characters = string.ascii_letters + string.digits + string.punctuation\n",
        "    password = ''.join(random.choice(characters) for _ in range(length))\n",
        "    return password\n",
        "\n",
        "# User input for number of passwords and their length\n",
        "num_passwords = int(input(\" Enter the desired number of passwords:  \"))\n",
        "length = int(input(\" Enter the desired password length: \"))\n",
        "\n",
        "# Generate and display passwords\n",
        "print(\"\\nGenerated Passwords:\")\n",
        "for _ in range(num_passwords):\n",
        "    print(generate_password(length))\n"
      ]
    }
  ]
}